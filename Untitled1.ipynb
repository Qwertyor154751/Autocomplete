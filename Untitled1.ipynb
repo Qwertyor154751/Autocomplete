{
 "cells": [
  {
   "cell_type": "code",
   "execution_count": 1,
   "metadata": {},
   "outputs": [],
   "source": [
    "from tensorflow import keras\n",
    "model = keras.models.load_model('mymodel-Copy1.h5')"
   ]
  },
  {
   "cell_type": "code",
   "execution_count": 2,
   "metadata": {},
   "outputs": [],
   "source": [
    "from keras.preprocessing.text import Tokenizer\n",
    "import nltk\n",
    "from nltk.tokenize import word_tokenize\n",
    "import numpy as np\n",
    "import re\n",
    "from keras.utils import to_categorical\n"
   ]
  },
  {
   "cell_type": "code",
   "execution_count": 3,
   "metadata": {},
   "outputs": [],
   "source": [
    "from collections import Counter\n",
    "from sklearn.datasets import fetch_20newsgroups\n",
    "import re"
   ]
  },
  {
   "cell_type": "code",
   "execution_count": 4,
   "metadata": {},
   "outputs": [],
   "source": [
    "corpus = []\n",
    "for line in fetch_20newsgroups().data:\n",
    "    line = line.replace('\\n', ' ').replace('\\t', ' ').lower()\n",
    "    line = re.sub('[^a-z ]', ' ', line)\n",
    "    tokens = line.split(' ')\n",
    "    tokens = [token for token in tokens if len(token) > 0]\n",
    "    corpus.extend(tokens)\n",
    "\n",
    "corpus = Counter(corpus)"
   ]
  },
  {
   "cell_type": "code",
   "execution_count": 5,
   "metadata": {},
   "outputs": [],
   "source": [
    "class SpellCheck:\n",
    "    def __init__(self, dictionary=None, verbose=0):\n",
    "        self.verbose = verbose\n",
    "        self.dictionary = dictionary\n",
    "        \n",
    "    def correction(self, text):\n",
    "        return ''"
   ]
  },
  {
   "cell_type": "code",
   "execution_count": 6,
   "metadata": {},
   "outputs": [],
   "source": [
    "class SpellCorrector(SpellCheck):\n",
    "    def __init__(self, dictionary, verbose=0):\n",
    "        super().__init__(dictionary=dictionary, verbose=verbose)\n",
    "\n",
    "    def words(text):\n",
    "        return re.findall(r'\\w+', text.lower())\n",
    "\n",
    "    def P(self, word): \n",
    "        \"Probability of `word`.\"\n",
    "        N = sum(self.dictionary.values())\n",
    "        return self.dictionary[word] / N\n",
    "\n",
    "    def correction(self, word): \n",
    "        \"Most probable spelling correction for word.\"\n",
    "        return max(self.candidates(word ,display = False), key=self.P)\n",
    "\n",
    "    def candidates(self, word, verbose=0, display = True): \n",
    "        \"Generate possible spelling corrections for word.\"\n",
    "        \n",
    "        known_result = self.known([word])\n",
    "        edit1_result = self.known(self.edits1(word))\n",
    "        edit2_result = self.known(self.edits2(word))\n",
    "        \n",
    "        if (self.verbose > 0 or verbose > 0) and display:\n",
    "            print('Known Result: ', known_result)\n",
    "            print('Edit1 Result: ', edit1_result)\n",
    "            print('Edit2 Result: ', edit2_result)\n",
    "        \n",
    "        return (known_result or edit1_result or edit2_result or [word])\n",
    "\n",
    "    def known(self, words):\n",
    "        \"The subset of `words` that appear in the dictionary of WORDS.\"\n",
    "        return set(w for w in words if w in self.dictionary)\n",
    "\n",
    "    def edits1(self, word):\n",
    "        \"All edits that are one edit away from `word`.\"\n",
    "        letters    = 'abcdefghijklmnopqrstuvwxyz'\n",
    "        splits     = [(word[:i], word[i:])    for i in range(len(word) + 1)]\n",
    "        deletes    = [L + R[1:]               for L, R in splits if R]\n",
    "        transposes = [L + R[1] + R[0] + R[2:] for L, R in splits if len(R)>1]\n",
    "        replaces   = [L + c + R[1:]           for L, R in splits if R for c in letters]\n",
    "        inserts    = [L + c + R               for L, R in splits for c in letters]\n",
    "        return set(deletes + transposes + replaces + inserts)\n",
    "\n",
    "    def edits2(self, word): \n",
    "        \"All edits that are two edits away from `word`.\"\n",
    "        return (e2 for e1 in self.edits1(word) for e2 in self.edits1(e1))"
   ]
  },
  {
   "cell_type": "code",
   "execution_count": 7,
   "metadata": {},
   "outputs": [
    {
     "data": {
      "text/plain": [
       "3603366"
      ]
     },
     "execution_count": 7,
     "metadata": {},
     "output_type": "execute_result"
    }
   ],
   "source": [
    "f = open(\"big.txt\")\n",
    "data = f.read()\n",
    "len(data)"
   ]
  },
  {
   "cell_type": "code",
   "execution_count": 8,
   "metadata": {},
   "outputs": [],
   "source": [
    "cleaned = re.sub(r'\\W+', ' ',data[:300000]).lower()\n",
    "tokens = word_tokenize(cleaned)\n",
    "train_len = 3+1\n",
    "text_sequences = []\n",
    "for i in range(train_len,len(tokens)):\n",
    "    seq = tokens[i-train_len:i]\n",
    "    text_sequences.append(seq)\n",
    "sequences = {}\n",
    "count = 1\n",
    "for i in range(len(tokens)):\n",
    "    if tokens[i] not in sequences:\n",
    "        sequences[tokens[i]] = count\n",
    "        count += 1\n",
    "tokenizer = Tokenizer()\n",
    "tokenizer.fit_on_texts(text_sequences)"
   ]
  },
  {
   "cell_type": "code",
   "execution_count": 11,
   "metadata": {},
   "outputs": [
    {
     "name": "stdout",
     "output_type": "stream",
     "text": [
      "quit\n",
      "[] [[0 0 0]]\n",
      "Next word suggestion: for\n",
      "Next word suggestion: do\n",
      "Next word suggestion: seen\n",
      "spell Suggest:\t quit\n"
     ]
    }
   ],
   "source": [
    "r = True\n",
    "seq_len = 3\n",
    "spell_corrector = SpellCorrector(dictionary=corpus, verbose=1)\n",
    "while r:\n",
    "    from keras.preprocessing.sequence import pad_sequences\n",
    "    input_text = input().strip().lower()\n",
    "    encoded_text = tokenizer.texts_to_sequences([input_text])[0]\n",
    "    pad_encoded = pad_sequences([encoded_text], maxlen=seq_len, truncating='pre')\n",
    "    print(encoded_text, pad_encoded)\n",
    "    for i in (model.predict(pad_encoded)[0]).argsort()[-3:][::-1]:\n",
    "      pred_word = tokenizer.index_word[i]\n",
    "      print(\"Next word suggestion:\",pred_word)\n",
    "    spell = input_text.split(\" \")[-1]\n",
    "    print(\"spell Suggest:\\t\",spell_corrector.correction(spell))\n",
    "    if input_text == \"quit\":\n",
    "        r = False"
   ]
  },
  {
   "cell_type": "code",
   "execution_count": null,
   "metadata": {},
   "outputs": [],
   "source": []
  }
 ],
 "metadata": {
  "kernelspec": {
   "display_name": "Python 3",
   "language": "python",
   "name": "python3"
  },
  "language_info": {
   "codemirror_mode": {
    "name": "ipython",
    "version": 3
   },
   "file_extension": ".py",
   "mimetype": "text/x-python",
   "name": "python",
   "nbconvert_exporter": "python",
   "pygments_lexer": "ipython3",
   "version": "3.8.3"
  }
 },
 "nbformat": 4,
 "nbformat_minor": 4
}
