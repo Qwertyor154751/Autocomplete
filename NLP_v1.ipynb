{
  "nbformat": 4,
  "nbformat_minor": 0,
  "metadata": {
    "colab": {
      "name": "NLP_v1.ipynb",
      "provenance": []
    },
    "kernelspec": {
      "name": "python3",
      "display_name": "Python 3"
    },
    "language_info": {
      "name": "python"
    }
  },
  "cells": [
    {
      "cell_type": "code",
      "metadata": {
        "id": "rAj7R-0qPQxq"
      },
      "source": [
        "import tensorflow as tf\n",
        "from tensorflow.keras.preprocessing.text import Tokenizer\n",
        "from tensorflow.keras.layers import Embedding, LSTM, Dense\n",
        "from tensorflow.keras.models import Sequential\n",
        "from tensorflow.keras.utils import to_categorical\n",
        "from tensorflow.keras.optimizers import Adam\n",
        "import pickle\n",
        "import numpy as np\n",
        "import os"
      ],
      "execution_count": null,
      "outputs": []
    },
    {
      "cell_type": "code",
      "metadata": {
        "colab": {
          "base_uri": "https://localhost:8080/"
        },
        "id": "xZ3BvE3zPUWQ",
        "outputId": "14ffc465-fb2c-467e-d5cd-20f0bc77a8ab"
      },
      "source": [
        "file = open(\"metamorphosis_clean.txt\", \"r\", encoding = \"utf8\")\n",
        "lines = []\n",
        "for i in file:\n",
        "    lines.append(i)\n",
        "print(\"The First Line: \", lines[0])\n",
        "print(\"The Last Line: \", lines[-1])"
      ],
      "execution_count": null,
      "outputs": [
        {
          "output_type": "stream",
          "text": [
            "The First Line:  ﻿One morning, when Gregor Samsa woke from troubled dreams, he found\n",
            "\n",
            "The Last Line:  first to get up and stretch out her young body.\n"
          ],
          "name": "stdout"
        }
      ]
    },
    {
      "cell_type": "code",
      "metadata": {
        "colab": {
          "base_uri": "https://localhost:8080/",
          "height": 52
        },
        "id": "OYssxVeoPcmH",
        "outputId": "2a9e4a62-a0aa-49f4-8a8b-f527a683dd22"
      },
      "source": [
        "data = \"\"\n",
        "for i in lines:\n",
        "    data = ' '. join(lines)\n",
        "data = data.replace('\\n', '').replace('\\r', '').replace('\\ufeff', '')\n",
        "data[:360]"
      ],
      "execution_count": null,
      "outputs": [
        {
          "output_type": "execute_result",
          "data": {
            "application/vnd.google.colaboratory.intrinsic+json": {
              "type": "string"
            },
            "text/plain": [
              "'One morning, when Gregor Samsa woke from troubled dreams, he found himself transformed in his bed into a horrible vermin.  He lay on his armour-like back, and if he lifted his head a little he could see his brown belly, slightly domed and divided by arches into stiff sections.  The bedding was hardly able to cover it and seemed ready to slide off any moment.'"
            ]
          },
          "metadata": {
            "tags": []
          },
          "execution_count": 8
        }
      ]
    },
    {
      "cell_type": "code",
      "metadata": {
        "colab": {
          "base_uri": "https://localhost:8080/",
          "height": 69
        },
        "id": "jF5oM1QbQjhj",
        "outputId": "99dfbad4-2a3c-4ef1-fd64-98e3fd68907a"
      },
      "source": [
        "import string\n",
        "translator = str.maketrans(string.punctuation, ' '*len(string.punctuation)) #map punctuation to space\n",
        "new_data = data.translate(translator)\n",
        "new_data[:500]"
      ],
      "execution_count": null,
      "outputs": [
        {
          "output_type": "execute_result",
          "data": {
            "application/vnd.google.colaboratory.intrinsic+json": {
              "type": "string"
            },
            "text/plain": [
              "'One morning  when Gregor Samsa woke from troubled dreams  he found himself transformed in his bed into a horrible vermin   He lay on his armour like back  and if he lifted his head a little he could see his brown belly  slightly domed and divided by arches into stiff sections   The bedding was hardly able to cover it and seemed ready to slide off any moment   His many legs  pitifully thin compared with the size of the rest of him  waved about helplessly as he looked    What s happened to me   he'"
            ]
          },
          "metadata": {
            "tags": []
          },
          "execution_count": 9
        }
      ]
    },
    {
      "cell_type": "code",
      "metadata": {
        "colab": {
          "base_uri": "https://localhost:8080/",
          "height": 69
        },
        "id": "ljPXjWqBQoDG",
        "outputId": "f7247b77-7c79-4969-f1c3-7029aed8d7aa"
      },
      "source": [
        "z = []\n",
        "for i in data.split():\n",
        "    if i not in z:\n",
        "        z.append(i)\n",
        "data = ' '.join(z)\n",
        "data[:500]"
      ],
      "execution_count": null,
      "outputs": [
        {
          "output_type": "execute_result",
          "data": {
            "application/vnd.google.colaboratory.intrinsic+json": {
              "type": "string"
            },
            "text/plain": [
              "'One morning, when Gregor Samsa woke from troubled dreams, he found himself transformed in his bed into a horrible vermin. He lay on armour-like back, and if lifted head little could see brown belly, slightly domed divided by arches stiff sections. The bedding was hardly able to cover it seemed ready slide off any moment. His many legs, pitifully thin compared with the size of rest him, waved about helplessly as looked. \"What\\'s happened me?\" thought. It wasn\\'t dream. room, proper human room altho'"
            ]
          },
          "metadata": {
            "tags": []
          },
          "execution_count": 10
        }
      ]
    },
    {
      "cell_type": "code",
      "metadata": {
        "colab": {
          "base_uri": "https://localhost:8080/"
        },
        "id": "b6jL9MOUQsqb",
        "outputId": "d1791a3c-ab29-49d7-ee39-63eee9ad6bd7"
      },
      "source": [
        "tokenizer = Tokenizer()\n",
        "tokenizer.fit_on_texts([data])\n",
        "# saving the tokenizer for predict function.\n",
        "pickle.dump(tokenizer, open('tokenizer1.pkl', 'wb'))\n",
        "sequence_data = tokenizer.texts_to_sequences([data])[0]\n",
        "sequence_data[:10]"
      ],
      "execution_count": null,
      "outputs": [
        {
          "output_type": "execute_result",
          "data": {
            "text/plain": [
              "[17, 53, 293, 2, 18, 729, 135, 730, 294, 8]"
            ]
          },
          "metadata": {
            "tags": []
          },
          "execution_count": 11
        }
      ]
    },
    {
      "cell_type": "code",
      "metadata": {
        "colab": {
          "base_uri": "https://localhost:8080/"
        },
        "id": "ClKZJt_PQ7WE",
        "outputId": "1ff6455e-b058-4dcf-e663-5324040c5dd0"
      },
      "source": [
        "vocab_size = len(tokenizer.word_index) + 1\n",
        "print(vocab_size)"
      ],
      "execution_count": null,
      "outputs": [
        {
          "output_type": "stream",
          "text": [
            "2617\n"
          ],
          "name": "stdout"
        }
      ]
    },
    {
      "cell_type": "code",
      "metadata": {
        "colab": {
          "base_uri": "https://localhost:8080/"
        },
        "id": "OJ7ZoVDcQ_vX",
        "outputId": "19c500d1-deed-4101-e848-5b1b01a36445"
      },
      "source": [
        "sequences = []\n",
        "for i in range(1, len(sequence_data)):\n",
        "    words = sequence_data[i-1:i+1]\n",
        "    sequences.append(words)\n",
        "print(\"The Length of sequences are: \", len(sequences))\n",
        "sequences = np.array(sequences)\n",
        "sequences[:10]"
      ],
      "execution_count": null,
      "outputs": [
        {
          "output_type": "stream",
          "text": [
            "The Length of sequences are:  3889\n"
          ],
          "name": "stdout"
        },
        {
          "output_type": "execute_result",
          "data": {
            "text/plain": [
              "array([[ 17,  53],\n",
              "       [ 53, 293],\n",
              "       [293,   2],\n",
              "       [  2,  18],\n",
              "       [ 18, 729],\n",
              "       [729, 135],\n",
              "       [135, 730],\n",
              "       [730, 294],\n",
              "       [294,   8],\n",
              "       [  8, 731]])"
            ]
          },
          "metadata": {
            "tags": []
          },
          "execution_count": 13
        }
      ]
    },
    {
      "cell_type": "code",
      "metadata": {
        "id": "gbKMtsR_RDLo"
      },
      "source": [
        "X = []\n",
        "y = []\n",
        "for i in sequences:\n",
        "    X.append(i[0])\n",
        "    y.append(i[1])\n",
        "X = np.array(X)\n",
        "y = np.array(y)"
      ],
      "execution_count": null,
      "outputs": []
    },
    {
      "cell_type": "code",
      "metadata": {
        "colab": {
          "base_uri": "https://localhost:8080/"
        },
        "id": "yA3pZvQTRMR9",
        "outputId": "03c5acdb-1397-4d14-818d-76718160df11"
      },
      "source": [
        "print(\"The Data is: \", X[:5])\n",
        "print(\"The responses are: \", y[:5])"
      ],
      "execution_count": null,
      "outputs": [
        {
          "output_type": "stream",
          "text": [
            "The Data is:  [ 17  53 293   2  18]\n",
            "The responses are:  [ 53 293   2  18 729]\n"
          ],
          "name": "stdout"
        }
      ]
    },
    {
      "cell_type": "code",
      "metadata": {
        "colab": {
          "base_uri": "https://localhost:8080/"
        },
        "id": "bByOzExcRPfY",
        "outputId": "82535a66-4467-4c30-8175-dde838747b1f"
      },
      "source": [
        "y = to_categorical(y, num_classes=vocab_size)\n",
        "y[:5]"
      ],
      "execution_count": null,
      "outputs": [
        {
          "output_type": "execute_result",
          "data": {
            "text/plain": [
              "array([[0., 0., 0., ..., 0., 0., 0.],\n",
              "       [0., 0., 0., ..., 0., 0., 0.],\n",
              "       [0., 0., 1., ..., 0., 0., 0.],\n",
              "       [0., 0., 0., ..., 0., 0., 0.],\n",
              "       [0., 0., 0., ..., 0., 0., 0.]], dtype=float32)"
            ]
          },
          "metadata": {
            "tags": []
          },
          "execution_count": 16
        }
      ]
    },
    {
      "cell_type": "code",
      "metadata": {
        "id": "aR1hZ-hBRSij"
      },
      "source": [
        "model = Sequential()\n",
        "model.add(Embedding(vocab_size, 10, input_length=1))\n",
        "model.add(LSTM(1000, return_sequences=True))\n",
        "model.add(LSTM(1000))\n",
        "model.add(Dense(1000, activation=\"relu\"))\n",
        "model.add(Dense(vocab_size, activation=\"softmax\"))"
      ],
      "execution_count": null,
      "outputs": []
    },
    {
      "cell_type": "code",
      "metadata": {
        "colab": {
          "base_uri": "https://localhost:8080/"
        },
        "id": "l-pnTZR6RVIM",
        "outputId": "bfe67d31-d8b9-454a-9f19-3dad9bd37ce7"
      },
      "source": [
        "model.summary()\n"
      ],
      "execution_count": null,
      "outputs": [
        {
          "output_type": "stream",
          "text": [
            "Model: \"sequential\"\n",
            "_________________________________________________________________\n",
            "Layer (type)                 Output Shape              Param #   \n",
            "=================================================================\n",
            "embedding (Embedding)        (None, 1, 10)             26170     \n",
            "_________________________________________________________________\n",
            "lstm (LSTM)                  (None, 1, 1000)           4044000   \n",
            "_________________________________________________________________\n",
            "lstm_1 (LSTM)                (None, 1000)              8004000   \n",
            "_________________________________________________________________\n",
            "dense (Dense)                (None, 1000)              1001000   \n",
            "_________________________________________________________________\n",
            "dense_1 (Dense)              (None, 2617)              2619617   \n",
            "=================================================================\n",
            "Total params: 15,694,787\n",
            "Trainable params: 15,694,787\n",
            "Non-trainable params: 0\n",
            "_________________________________________________________________\n"
          ],
          "name": "stdout"
        }
      ]
    },
    {
      "cell_type": "code",
      "metadata": {
        "colab": {
          "base_uri": "https://localhost:8080/",
          "height": 564
        },
        "id": "K6pnSkEiRYju",
        "outputId": "e16ac9c1-dcd6-4814-92cf-15c2aa3a35dc"
      },
      "source": [
        "from tensorflow import keras\n",
        "from keras.utils.vis_utils import plot_model\n",
        "keras.utils.plot_model(model, to_file='model.png', show_layer_names=True)"
      ],
      "execution_count": null,
      "outputs": [
        {
          "output_type": "execute_result",
          "data": {
            "image/png": "[encoded data removed]",
            "text/plain": [
              "<IPython.core.display.Image object>"
            ]
          },
          "metadata": {
            "tags": []
          },
          "execution_count": 19
        }
      ]
    },
    {
      "cell_type": "code",
      "metadata": {
        "id": "fMm5WxVrRblD"
      },
      "source": [
        "from tensorflow.keras.callbacks import ModelCheckpoint\n",
        "from tensorflow.keras.callbacks import ReduceLROnPlateau\n",
        "from tensorflow.keras.callbacks import TensorBoard\n",
        "checkpoint = ModelCheckpoint(\"nextword1.h5\", monitor='loss', verbose=1,\n",
        "    save_best_only=True, mode='auto')\n",
        "reduce = ReduceLROnPlateau(monitor='loss', factor=0.2, patience=3, min_lr=0.0001, verbose = 1)\n",
        "logdir='logsnextword1'\n",
        "tensorboard_Visualization = TensorBoard(log_dir=logdir)"
      ],
      "execution_count": null,
      "outputs": []
    },
    {
      "cell_type": "code",
      "metadata": {
        "id": "1GNbiyY5Rht0"
      },
      "source": [
        "model.compile(loss=\"categorical_crossentropy\", optimizer=Adam(lr=0.001))\n"
      ],
      "execution_count": null,
      "outputs": []
    },
    {
      "cell_type": "code",
      "metadata": {
        "colab": {
          "base_uri": "https://localhost:8080/"
        },
        "id": "XDSJVs8rRk8o",
        "outputId": "c077390a-3079-4e1d-d143-1bea5917b77f"
      },
      "source": [
        "model.fit(X, y, epochs=150, batch_size=64, callbacks=[checkpoint, reduce, tensorboard_Visualization])\n"
      ],
      "execution_count": null,
      "outputs": [
        {
          "output_type": "stream",
          "text": [
            "Epoch 1/150\n",
            "61/61 [==============================] - 17s 220ms/step - loss: 7.8719\n",
            "\n",
            "Epoch 00001: loss improved from inf to 7.87493, saving model to nextword1.h5\n",
            "Epoch 2/150\n",
            "61/61 [==============================] - 13s 216ms/step - loss: 7.8625\n",
            "\n",
            "Epoch 00002: loss improved from 7.87493 to 7.86255, saving model to nextword1.h5\n",
            "Epoch 3/150\n",
            "61/61 [==============================] - 13s 216ms/step - loss: 7.8000\n",
            "\n",
            "Epoch 00003: loss improved from 7.86255 to 7.81425, saving model to nextword1.h5\n",
            "Epoch 4/150\n",
            "61/61 [==============================] - 13s 216ms/step - loss: 7.6004\n",
            "\n",
            "Epoch 00004: loss improved from 7.81425 to 7.61280, saving model to nextword1.h5\n",
            "Epoch 5/150\n",
            "61/61 [==============================] - 13s 215ms/step - loss: 7.3593\n",
            "\n",
            "Epoch 00005: loss improved from 7.61280 to 7.39138, saving model to nextword1.h5\n",
            "Epoch 6/150\n",
            "61/61 [==============================] - 13s 216ms/step - loss: 7.1756\n",
            "\n",
            "Epoch 00006: loss improved from 7.39138 to 7.22293, saving model to nextword1.h5\n",
            "Epoch 7/150\n",
            "61/61 [==============================] - 13s 218ms/step - loss: 7.0707\n",
            "\n",
            "Epoch 00007: loss improved from 7.22293 to 7.09512, saving model to nextword1.h5\n",
            "Epoch 8/150\n",
            "61/61 [==============================] - 14s 225ms/step - loss: 6.8859\n",
            "\n",
            "Epoch 00008: loss improved from 7.09512 to 6.93449, saving model to nextword1.h5\n",
            "Epoch 9/150\n",
            "61/61 [==============================] - 13s 216ms/step - loss: 6.6895\n",
            "\n",
            "Epoch 00009: loss improved from 6.93449 to 6.70758, saving model to nextword1.h5\n",
            "Epoch 10/150\n",
            "61/61 [==============================] - 13s 218ms/step - loss: 6.3923\n",
            "\n",
            "Epoch 00010: loss improved from 6.70758 to 6.43492, saving model to nextword1.h5\n",
            "Epoch 11/150\n",
            "61/61 [==============================] - 13s 216ms/step - loss: 6.0868\n",
            "\n",
            "Epoch 00011: loss improved from 6.43492 to 6.15165, saving model to nextword1.h5\n",
            "Epoch 12/150\n",
            "61/61 [==============================] - 13s 216ms/step - loss: 5.7588\n",
            "\n",
            "Epoch 00012: loss improved from 6.15165 to 5.86881, saving model to nextword1.h5\n",
            "Epoch 13/150\n",
            "61/61 [==============================] - 13s 217ms/step - loss: 5.4952\n",
            "\n",
            "Epoch 00013: loss improved from 5.86881 to 5.59804, saving model to nextword1.h5\n",
            "Epoch 14/150\n",
            "61/61 [==============================] - 16s 270ms/step - loss: 5.1722\n",
            "\n",
            "Epoch 00014: loss improved from 5.59804 to 5.34313, saving model to nextword1.h5\n",
            "Epoch 15/150\n",
            "61/61 [==============================] - 13s 219ms/step - loss: 4.9218\n",
            "\n",
            "Epoch 00015: loss improved from 5.34313 to 5.07912, saving model to nextword1.h5\n",
            "Epoch 16/150\n",
            "61/61 [==============================] - 13s 218ms/step - loss: 4.6461\n",
            "\n",
            "Epoch 00016: loss improved from 5.07912 to 4.82372, saving model to nextword1.h5\n",
            "Epoch 17/150\n",
            "61/61 [==============================] - 13s 218ms/step - loss: 4.4247\n",
            "\n",
            "Epoch 00017: loss improved from 4.82372 to 4.59469, saving model to nextword1.h5\n",
            "Epoch 18/150\n",
            "61/61 [==============================] - 13s 219ms/step - loss: 4.2232\n",
            "\n",
            "Epoch 00018: loss improved from 4.59469 to 4.36482, saving model to nextword1.h5\n",
            "Epoch 19/150\n",
            "61/61 [==============================] - 13s 219ms/step - loss: 3.9531\n",
            "\n",
            "Epoch 00019: loss improved from 4.36482 to 4.15130, saving model to nextword1.h5\n",
            "Epoch 20/150\n",
            "61/61 [==============================] - 13s 220ms/step - loss: 3.7525\n",
            "\n",
            "Epoch 00020: loss improved from 4.15130 to 3.97952, saving model to nextword1.h5\n",
            "Epoch 21/150\n",
            "61/61 [==============================] - 13s 220ms/step - loss: 3.6080\n",
            "\n",
            "Epoch 00021: loss improved from 3.97952 to 3.82804, saving model to nextword1.h5\n",
            "Epoch 22/150\n",
            "61/61 [==============================] - 14s 227ms/step - loss: 3.4449\n",
            "\n",
            "Epoch 00022: loss improved from 3.82804 to 3.66343, saving model to nextword1.h5\n",
            "Epoch 23/150\n",
            "61/61 [==============================] - 14s 223ms/step - loss: 3.2840\n",
            "\n",
            "Epoch 00023: loss improved from 3.66343 to 3.52977, saving model to nextword1.h5\n",
            "Epoch 24/150\n",
            "61/61 [==============================] - 13s 220ms/step - loss: 3.2256\n",
            "\n",
            "Epoch 00024: loss improved from 3.52977 to 3.42776, saving model to nextword1.h5\n",
            "Epoch 25/150\n",
            "61/61 [==============================] - 13s 219ms/step - loss: 3.1546\n",
            "\n",
            "Epoch 00025: loss improved from 3.42776 to 3.33129, saving model to nextword1.h5\n",
            "Epoch 26/150\n",
            "61/61 [==============================] - 14s 221ms/step - loss: 2.9985\n",
            "\n",
            "Epoch 00026: loss improved from 3.33129 to 3.21600, saving model to nextword1.h5\n",
            "Epoch 27/150\n",
            "61/61 [==============================] - 13s 220ms/step - loss: 2.8648\n",
            "\n",
            "Epoch 00027: loss improved from 3.21600 to 3.11634, saving model to nextword1.h5\n",
            "Epoch 28/150\n",
            "61/61 [==============================] - 13s 219ms/step - loss: 2.7854\n",
            "\n",
            "Epoch 00028: loss improved from 3.11634 to 3.02019, saving model to nextword1.h5\n",
            "Epoch 29/150\n",
            "61/61 [==============================] - 13s 220ms/step - loss: 2.6774\n",
            "\n",
            "Epoch 00029: loss improved from 3.02019 to 2.92149, saving model to nextword1.h5\n",
            "Epoch 30/150\n",
            "61/61 [==============================] - 14s 227ms/step - loss: 2.6561\n",
            "\n",
            "Epoch 00030: loss improved from 2.92149 to 2.85749, saving model to nextword1.h5\n",
            "Epoch 31/150\n",
            "61/61 [==============================] - 14s 222ms/step - loss: 2.5902\n",
            "\n",
            "Epoch 00031: loss improved from 2.85749 to 2.78677, saving model to nextword1.h5\n",
            "Epoch 32/150\n",
            "61/61 [==============================] - 13s 220ms/step - loss: 2.5308\n",
            "\n",
            "Epoch 00032: loss improved from 2.78677 to 2.73114, saving model to nextword1.h5\n",
            "Epoch 33/150\n",
            "61/61 [==============================] - 13s 219ms/step - loss: 2.4186\n",
            "\n",
            "Epoch 00033: loss improved from 2.73114 to 2.64595, saving model to nextword1.h5\n",
            "Epoch 34/150\n",
            "61/61 [==============================] - 13s 219ms/step - loss: 2.3652\n",
            "\n",
            "Epoch 00034: loss improved from 2.64595 to 2.61410, saving model to nextword1.h5\n",
            "Epoch 35/150\n",
            "61/61 [==============================] - 13s 219ms/step - loss: 2.3655\n",
            "\n",
            "Epoch 00035: loss improved from 2.61410 to 2.54038, saving model to nextword1.h5\n",
            "Epoch 36/150\n",
            "61/61 [==============================] - 13s 218ms/step - loss: 2.2878\n",
            "\n",
            "Epoch 00036: loss improved from 2.54038 to 2.46844, saving model to nextword1.h5\n",
            "Epoch 37/150\n",
            "61/61 [==============================] - 13s 219ms/step - loss: 2.1955\n",
            "\n",
            "Epoch 00037: loss improved from 2.46844 to 2.40152, saving model to nextword1.h5\n",
            "Epoch 38/150\n",
            "61/61 [==============================] - 13s 218ms/step - loss: 2.1351\n",
            "\n",
            "Epoch 00038: loss improved from 2.40152 to 2.35742, saving model to nextword1.h5\n",
            "Epoch 39/150\n",
            "61/61 [==============================] - 13s 218ms/step - loss: 2.0790\n",
            "\n",
            "Epoch 00039: loss improved from 2.35742 to 2.32669, saving model to nextword1.h5\n",
            "Epoch 40/150\n",
            "61/61 [==============================] - 13s 219ms/step - loss: 2.0546\n",
            "\n",
            "Epoch 00040: loss improved from 2.32669 to 2.26171, saving model to nextword1.h5\n",
            "Epoch 41/150\n",
            "61/61 [==============================] - 13s 217ms/step - loss: 2.0318\n",
            "\n",
            "Epoch 00041: loss improved from 2.26171 to 2.23209, saving model to nextword1.h5\n",
            "Epoch 42/150\n",
            "61/61 [==============================] - 14s 221ms/step - loss: 1.9584\n",
            "\n",
            "Epoch 00042: loss improved from 2.23209 to 2.18312, saving model to nextword1.h5\n",
            "Epoch 43/150\n",
            "61/61 [==============================] - 13s 220ms/step - loss: 1.9732\n",
            "\n",
            "Epoch 00043: loss improved from 2.18312 to 2.16206, saving model to nextword1.h5\n",
            "Epoch 44/150\n",
            "61/61 [==============================] - 13s 220ms/step - loss: 1.8911\n",
            "\n",
            "Epoch 00044: loss improved from 2.16206 to 2.11168, saving model to nextword1.h5\n",
            "Epoch 45/150\n",
            "61/61 [==============================] - 13s 219ms/step - loss: 1.8502\n",
            "\n",
            "Epoch 00045: loss improved from 2.11168 to 2.07709, saving model to nextword1.h5\n",
            "Epoch 46/150\n",
            "61/61 [==============================] - 13s 220ms/step - loss: 1.8748\n",
            "\n",
            "Epoch 00046: loss improved from 2.07709 to 2.04208, saving model to nextword1.h5\n",
            "Epoch 47/150\n",
            "61/61 [==============================] - 13s 219ms/step - loss: 1.8027\n",
            "\n",
            "Epoch 00047: loss improved from 2.04208 to 2.00388, saving model to nextword1.h5\n",
            "Epoch 48/150\n",
            "61/61 [==============================] - 14s 221ms/step - loss: 1.7712\n",
            "\n",
            "Epoch 00048: loss improved from 2.00388 to 1.96158, saving model to nextword1.h5\n",
            "Epoch 49/150\n",
            "61/61 [==============================] - 14s 221ms/step - loss: 1.7097\n",
            "\n",
            "Epoch 00049: loss improved from 1.96158 to 1.89510, saving model to nextword1.h5\n",
            "Epoch 50/150\n",
            "61/61 [==============================] - 14s 231ms/step - loss: 1.6831\n",
            "\n",
            "Epoch 00050: loss improved from 1.89510 to 1.88566, saving model to nextword1.h5\n",
            "Epoch 51/150\n",
            "61/61 [==============================] - 14s 222ms/step - loss: 1.6960\n",
            "\n",
            "Epoch 00051: loss improved from 1.88566 to 1.88036, saving model to nextword1.h5\n",
            "Epoch 52/150\n",
            "61/61 [==============================] - 13s 219ms/step - loss: 1.7038\n",
            "\n",
            "Epoch 00052: loss improved from 1.88036 to 1.86170, saving model to nextword1.h5\n",
            "Epoch 53/150\n",
            "61/61 [==============================] - 13s 219ms/step - loss: 1.6149\n",
            "\n",
            "Epoch 00053: loss improved from 1.86170 to 1.81299, saving model to nextword1.h5\n",
            "Epoch 54/150\n",
            "61/61 [==============================] - 14s 223ms/step - loss: 1.6058\n",
            "\n",
            "Epoch 00054: loss improved from 1.81299 to 1.78393, saving model to nextword1.h5\n",
            "Epoch 55/150\n",
            "61/61 [==============================] - 14s 221ms/step - loss: 1.5530\n",
            "\n",
            "Epoch 00055: loss improved from 1.78393 to 1.74374, saving model to nextword1.h5\n",
            "Epoch 56/150\n",
            "61/61 [==============================] - 13s 219ms/step - loss: 1.5256\n",
            "\n",
            "Epoch 00056: loss improved from 1.74374 to 1.72298, saving model to nextword1.h5\n",
            "Epoch 57/150\n",
            "61/61 [==============================] - 14s 222ms/step - loss: 1.5339\n",
            "\n",
            "Epoch 00057: loss improved from 1.72298 to 1.69517, saving model to nextword1.h5\n",
            "Epoch 58/150\n",
            "61/61 [==============================] - 16s 257ms/step - loss: 1.4762\n",
            "\n",
            "Epoch 00058: loss improved from 1.69517 to 1.66875, saving model to nextword1.h5\n",
            "Epoch 59/150\n",
            "61/61 [==============================] - 14s 221ms/step - loss: 1.4938\n",
            "\n",
            "Epoch 00059: loss improved from 1.66875 to 1.65785, saving model to nextword1.h5\n",
            "Epoch 60/150\n",
            "61/61 [==============================] - 14s 222ms/step - loss: 1.4641\n",
            "\n",
            "Epoch 00060: loss improved from 1.65785 to 1.63446, saving model to nextword1.h5\n",
            "Epoch 61/150\n",
            "61/61 [==============================] - 14s 221ms/step - loss: 1.4503\n",
            "\n",
            "Epoch 00061: loss improved from 1.63446 to 1.61659, saving model to nextword1.h5\n",
            "Epoch 62/150\n",
            "61/61 [==============================] - 13s 220ms/step - loss: 1.3974\n",
            "\n",
            "Epoch 00062: loss improved from 1.61659 to 1.57299, saving model to nextword1.h5\n",
            "Epoch 63/150\n",
            "61/61 [==============================] - 13s 220ms/step - loss: 1.3622\n",
            "\n",
            "Epoch 00063: loss improved from 1.57299 to 1.54741, saving model to nextword1.h5\n",
            "Epoch 64/150\n",
            "61/61 [==============================] - 13s 220ms/step - loss: 1.3446\n",
            "\n",
            "Epoch 00064: loss improved from 1.54741 to 1.52347, saving model to nextword1.h5\n",
            "Epoch 65/150\n",
            "61/61 [==============================] - 14s 221ms/step - loss: 1.3468\n",
            "\n",
            "Epoch 00065: loss did not improve from 1.52347\n",
            "Epoch 66/150\n",
            "61/61 [==============================] - 13s 219ms/step - loss: 1.3206\n",
            "\n",
            "Epoch 00066: loss improved from 1.52347 to 1.50899, saving model to nextword1.h5\n",
            "Epoch 67/150\n",
            "61/61 [==============================] - 13s 219ms/step - loss: 1.3075\n",
            "\n",
            "Epoch 00067: loss improved from 1.50899 to 1.48615, saving model to nextword1.h5\n",
            "Epoch 68/150\n",
            "61/61 [==============================] - 13s 219ms/step - loss: 1.2961\n",
            "\n",
            "Epoch 00068: loss improved from 1.48615 to 1.46137, saving model to nextword1.h5\n",
            "Epoch 69/150\n",
            "61/61 [==============================] - 13s 220ms/step - loss: 1.2826\n",
            "\n",
            "Epoch 00069: loss improved from 1.46137 to 1.44296, saving model to nextword1.h5\n",
            "Epoch 70/150\n",
            "61/61 [==============================] - 13s 218ms/step - loss: 1.2410\n",
            "\n",
            "Epoch 00070: loss improved from 1.44296 to 1.40788, saving model to nextword1.h5\n",
            "Epoch 71/150\n",
            "61/61 [==============================] - 13s 220ms/step - loss: 1.2479\n",
            "\n",
            "Epoch 00071: loss improved from 1.40788 to 1.40028, saving model to nextword1.h5\n",
            "Epoch 72/150\n",
            "61/61 [==============================] - 14s 221ms/step - loss: 1.2358\n",
            "\n",
            "Epoch 00072: loss improved from 1.40028 to 1.39720, saving model to nextword1.h5\n",
            "Epoch 73/150\n",
            "61/61 [==============================] - 13s 218ms/step - loss: 1.2375\n",
            "\n",
            "Epoch 00073: loss improved from 1.39720 to 1.39541, saving model to nextword1.h5\n",
            "Epoch 74/150\n",
            "61/61 [==============================] - 13s 219ms/step - loss: 1.1934\n",
            "\n",
            "Epoch 00074: loss improved from 1.39541 to 1.36817, saving model to nextword1.h5\n",
            "Epoch 75/150\n",
            "61/61 [==============================] - 13s 217ms/step - loss: 1.1659\n",
            "\n",
            "Epoch 00075: loss improved from 1.36817 to 1.33370, saving model to nextword1.h5\n",
            "Epoch 76/150\n",
            "61/61 [==============================] - 13s 217ms/step - loss: 1.1545\n",
            "\n",
            "Epoch 00076: loss improved from 1.33370 to 1.30598, saving model to nextword1.h5\n",
            "Epoch 77/150\n",
            "61/61 [==============================] - 13s 219ms/step - loss: 1.1236\n",
            "\n",
            "Epoch 00077: loss improved from 1.30598 to 1.28938, saving model to nextword1.h5\n",
            "Epoch 78/150\n",
            "61/61 [==============================] - 13s 218ms/step - loss: 1.1258\n",
            "\n",
            "Epoch 00078: loss improved from 1.28938 to 1.28340, saving model to nextword1.h5\n",
            "Epoch 79/150\n",
            "61/61 [==============================] - 13s 218ms/step - loss: 1.1342\n",
            "\n",
            "Epoch 00079: loss improved from 1.28340 to 1.26843, saving model to nextword1.h5\n",
            "Epoch 80/150\n",
            "61/61 [==============================] - 13s 220ms/step - loss: 1.1480\n",
            "\n",
            "Epoch 00080: loss did not improve from 1.26843\n",
            "Epoch 81/150\n",
            "61/61 [==============================] - 13s 218ms/step - loss: 1.0968\n",
            "\n",
            "Epoch 00081: loss improved from 1.26843 to 1.24505, saving model to nextword1.h5\n",
            "Epoch 82/150\n",
            "61/61 [==============================] - 14s 226ms/step - loss: 1.0504\n",
            "\n",
            "Epoch 00082: loss improved from 1.24505 to 1.20454, saving model to nextword1.h5\n",
            "Epoch 83/150\n",
            "61/61 [==============================] - 14s 225ms/step - loss: 1.0235\n",
            "\n",
            "Epoch 00083: loss improved from 1.20454 to 1.17272, saving model to nextword1.h5\n",
            "Epoch 84/150\n",
            "61/61 [==============================] - 14s 221ms/step - loss: 0.9914\n",
            "\n",
            "Epoch 00084: loss improved from 1.17272 to 1.15745, saving model to nextword1.h5\n",
            "Epoch 85/150\n",
            "61/61 [==============================] - 13s 221ms/step - loss: 1.0312\n",
            "\n",
            "Epoch 00085: loss improved from 1.15745 to 1.15355, saving model to nextword1.h5\n",
            "Epoch 86/150\n",
            "61/61 [==============================] - 13s 220ms/step - loss: 1.0342\n",
            "\n",
            "Epoch 00086: loss improved from 1.15355 to 1.14912, saving model to nextword1.h5\n",
            "Epoch 87/150\n",
            "61/61 [==============================] - 14s 222ms/step - loss: 1.0272\n",
            "\n",
            "Epoch 00087: loss did not improve from 1.14912\n",
            "Epoch 88/150\n",
            "61/61 [==============================] - 13s 218ms/step - loss: 1.0630\n",
            "\n",
            "Epoch 00088: loss did not improve from 1.14912\n",
            "Epoch 89/150\n",
            "61/61 [==============================] - 13s 220ms/step - loss: 1.0005\n",
            "\n",
            "Epoch 00089: loss improved from 1.14912 to 1.14747, saving model to nextword1.h5\n",
            "Epoch 90/150\n",
            "61/61 [==============================] - 14s 223ms/step - loss: 0.9993\n",
            "\n",
            "Epoch 00090: loss improved from 1.14747 to 1.14301, saving model to nextword1.h5\n",
            "Epoch 91/150\n",
            "61/61 [==============================] - 14s 223ms/step - loss: 0.9632\n",
            "\n",
            "Epoch 00091: loss improved from 1.14301 to 1.11858, saving model to nextword1.h5\n",
            "Epoch 92/150\n",
            "61/61 [==============================] - 13s 220ms/step - loss: 0.9862\n",
            "\n",
            "Epoch 00092: loss improved from 1.11858 to 1.11319, saving model to nextword1.h5\n",
            "Epoch 93/150\n",
            "61/61 [==============================] - 13s 221ms/step - loss: 0.9728\n",
            "\n",
            "Epoch 00093: loss improved from 1.11319 to 1.09338, saving model to nextword1.h5\n",
            "Epoch 94/150\n",
            "61/61 [==============================] - 13s 220ms/step - loss: 0.9533\n",
            "\n",
            "Epoch 00094: loss improved from 1.09338 to 1.08711, saving model to nextword1.h5\n",
            "Epoch 95/150\n",
            "61/61 [==============================] - 13s 220ms/step - loss: 0.9392\n",
            "\n",
            "Epoch 00095: loss did not improve from 1.08711\n",
            "Epoch 96/150\n",
            "61/61 [==============================] - 13s 218ms/step - loss: 0.9676\n",
            "\n",
            "Epoch 00096: loss improved from 1.08711 to 1.08697, saving model to nextword1.h5\n",
            "Epoch 97/150\n",
            "61/61 [==============================] - 13s 221ms/step - loss: 0.9755\n",
            "\n",
            "Epoch 00097: loss did not improve from 1.08697\n",
            "Epoch 98/150\n",
            "61/61 [==============================] - 13s 220ms/step - loss: 0.9430\n",
            "\n",
            "Epoch 00098: loss did not improve from 1.08697\n",
            "Epoch 99/150\n",
            "61/61 [==============================] - 13s 220ms/step - loss: 0.9616\n",
            "\n",
            "Epoch 00099: loss did not improve from 1.08697\n",
            "\n",
            "Epoch 00099: ReduceLROnPlateau reducing learning rate to 0.00020000000949949026.\n",
            "Epoch 100/150\n",
            "61/61 [==============================] - 14s 222ms/step - loss: 0.8450\n",
            "\n",
            "Epoch 00100: loss improved from 1.08697 to 0.84061, saving model to nextword1.h5\n",
            "Epoch 101/150\n",
            "61/61 [==============================] - 14s 222ms/step - loss: 0.7251\n",
            "\n",
            "Epoch 00101: loss improved from 0.84061 to 0.74462, saving model to nextword1.h5\n",
            "Epoch 102/150\n",
            "61/61 [==============================] - 15s 250ms/step - loss: 0.6520\n",
            "\n",
            "Epoch 00102: loss improved from 0.74462 to 0.71536, saving model to nextword1.h5\n",
            "Epoch 103/150\n",
            "61/61 [==============================] - 14s 228ms/step - loss: 0.6789\n",
            "\n",
            "Epoch 00103: loss improved from 0.71536 to 0.70122, saving model to nextword1.h5\n",
            "Epoch 104/150\n",
            "61/61 [==============================] - 14s 226ms/step - loss: 0.6763\n",
            "\n",
            "Epoch 00104: loss improved from 0.70122 to 0.69643, saving model to nextword1.h5\n",
            "Epoch 105/150\n",
            "61/61 [==============================] - 14s 225ms/step - loss: 0.6446\n",
            "\n",
            "Epoch 00105: loss improved from 0.69643 to 0.69184, saving model to nextword1.h5\n",
            "Epoch 106/150\n",
            "61/61 [==============================] - 14s 222ms/step - loss: 0.6636\n",
            "\n",
            "Epoch 00106: loss improved from 0.69184 to 0.68836, saving model to nextword1.h5\n",
            "Epoch 107/150\n",
            "61/61 [==============================] - 13s 221ms/step - loss: 0.6544\n",
            "\n",
            "Epoch 00107: loss improved from 0.68836 to 0.68741, saving model to nextword1.h5\n",
            "Epoch 108/150\n",
            "61/61 [==============================] - 14s 222ms/step - loss: 0.6525\n",
            "\n",
            "Epoch 00108: loss improved from 0.68741 to 0.68499, saving model to nextword1.h5\n",
            "Epoch 109/150\n",
            "61/61 [==============================] - 14s 222ms/step - loss: 0.6528\n",
            "\n",
            "Epoch 00109: loss improved from 0.68499 to 0.68489, saving model to nextword1.h5\n",
            "Epoch 110/150\n",
            "61/61 [==============================] - 14s 222ms/step - loss: 0.6474\n",
            "\n",
            "Epoch 00110: loss improved from 0.68489 to 0.68412, saving model to nextword1.h5\n",
            "Epoch 111/150\n",
            "61/61 [==============================] - 14s 223ms/step - loss: 0.6531\n",
            "\n",
            "Epoch 00111: loss improved from 0.68412 to 0.68233, saving model to nextword1.h5\n",
            "Epoch 112/150\n",
            "61/61 [==============================] - 14s 221ms/step - loss: 0.6428\n",
            "\n",
            "Epoch 00112: loss did not improve from 0.68233\n",
            "Epoch 113/150\n",
            "61/61 [==============================] - 13s 220ms/step - loss: 0.6336\n",
            "\n",
            "Epoch 00113: loss improved from 0.68233 to 0.68202, saving model to nextword1.h5\n",
            "Epoch 114/150\n",
            "61/61 [==============================] - 14s 221ms/step - loss: 0.6201\n",
            "\n",
            "Epoch 00114: loss improved from 0.68202 to 0.68024, saving model to nextword1.h5\n",
            "Epoch 115/150\n",
            "61/61 [==============================] - 14s 225ms/step - loss: 0.6283\n",
            "\n",
            "Epoch 00115: loss did not improve from 0.68024\n",
            "Epoch 116/150\n",
            "61/61 [==============================] - 14s 223ms/step - loss: 0.6268\n",
            "\n",
            "Epoch 00116: loss did not improve from 0.68024\n",
            "Epoch 117/150\n",
            "61/61 [==============================] - 14s 223ms/step - loss: 0.6294\n",
            "\n",
            "Epoch 00117: loss did not improve from 0.68024\n",
            "\n",
            "Epoch 00117: ReduceLROnPlateau reducing learning rate to 0.0001.\n",
            "Epoch 118/150\n",
            "61/61 [==============================] - 14s 222ms/step - loss: 0.5945\n",
            "\n",
            "Epoch 00118: loss improved from 0.68024 to 0.63888, saving model to nextword1.h5\n",
            "Epoch 119/150\n",
            "61/61 [==============================] - 14s 224ms/step - loss: 0.5961\n",
            "\n",
            "Epoch 00119: loss improved from 0.63888 to 0.63548, saving model to nextword1.h5\n",
            "Epoch 120/150\n",
            "61/61 [==============================] - 14s 221ms/step - loss: 0.6023\n",
            "\n",
            "Epoch 00120: loss improved from 0.63548 to 0.63469, saving model to nextword1.h5\n",
            "Epoch 121/150\n",
            "61/61 [==============================] - 14s 222ms/step - loss: 0.6097\n",
            "\n",
            "Epoch 00121: loss did not improve from 0.63469\n",
            "Epoch 122/150\n",
            "61/61 [==============================] - 13s 221ms/step - loss: 0.6276\n",
            "\n",
            "Epoch 00122: loss did not improve from 0.63469\n",
            "Epoch 123/150\n",
            "61/61 [==============================] - 14s 221ms/step - loss: 0.6055\n",
            "\n",
            "Epoch 00123: loss did not improve from 0.63469\n",
            "Epoch 124/150\n",
            "61/61 [==============================] - 13s 221ms/step - loss: 0.6058\n",
            "\n",
            "Epoch 00124: loss improved from 0.63469 to 0.63439, saving model to nextword1.h5\n",
            "Epoch 125/150\n",
            "61/61 [==============================] - 14s 223ms/step - loss: 0.6077\n",
            "\n",
            "Epoch 00125: loss improved from 0.63439 to 0.63402, saving model to nextword1.h5\n",
            "Epoch 126/150\n",
            "61/61 [==============================] - 14s 224ms/step - loss: 0.5927\n",
            "\n",
            "Epoch 00126: loss did not improve from 0.63402\n",
            "Epoch 127/150\n",
            "61/61 [==============================] - 14s 222ms/step - loss: 0.6380\n",
            "\n",
            "Epoch 00127: loss improved from 0.63402 to 0.63384, saving model to nextword1.h5\n",
            "Epoch 128/150\n",
            "61/61 [==============================] - 14s 223ms/step - loss: 0.6198\n",
            "\n",
            "Epoch 00128: loss improved from 0.63384 to 0.63253, saving model to nextword1.h5\n",
            "Epoch 129/150\n",
            "61/61 [==============================] - 14s 224ms/step - loss: 0.5991\n",
            "\n",
            "Epoch 00129: loss improved from 0.63253 to 0.63252, saving model to nextword1.h5\n",
            "Epoch 130/150\n",
            "61/61 [==============================] - 14s 229ms/step - loss: 0.6045\n",
            "\n",
            "Epoch 00130: loss did not improve from 0.63252\n",
            "Epoch 131/150\n",
            "61/61 [==============================] - 14s 221ms/step - loss: 0.6088\n",
            "\n",
            "Epoch 00131: loss did not improve from 0.63252\n",
            "Epoch 132/150\n",
            "61/61 [==============================] - 14s 222ms/step - loss: 0.6013\n",
            "\n",
            "Epoch 00132: loss did not improve from 0.63252\n",
            "Epoch 133/150\n",
            "61/61 [==============================] - 13s 219ms/step - loss: 0.6080\n",
            "\n",
            "Epoch 00133: loss improved from 0.63252 to 0.63245, saving model to nextword1.h5\n",
            "Epoch 134/150\n",
            "61/61 [==============================] - 14s 223ms/step - loss: 0.6125\n",
            "\n",
            "Epoch 00134: loss improved from 0.63245 to 0.63219, saving model to nextword1.h5\n",
            "Epoch 135/150\n",
            "61/61 [==============================] - 13s 220ms/step - loss: 0.6082\n",
            "\n",
            "Epoch 00135: loss improved from 0.63219 to 0.63124, saving model to nextword1.h5\n",
            "Epoch 136/150\n",
            "61/61 [==============================] - 13s 220ms/step - loss: 0.5975\n",
            "\n",
            "Epoch 00136: loss improved from 0.63124 to 0.63049, saving model to nextword1.h5\n",
            "Epoch 137/150\n",
            "61/61 [==============================] - 13s 221ms/step - loss: 0.6009\n",
            "\n",
            "Epoch 00137: loss did not improve from 0.63049\n",
            "Epoch 138/150\n",
            "61/61 [==============================] - 13s 220ms/step - loss: 0.5918\n",
            "\n",
            "Epoch 00138: loss did not improve from 0.63049\n",
            "Epoch 139/150\n",
            "61/61 [==============================] - 14s 223ms/step - loss: 0.6141\n",
            "\n",
            "Epoch 00139: loss did not improve from 0.63049\n",
            "Epoch 140/150\n",
            "61/61 [==============================] - 14s 222ms/step - loss: 0.6059\n",
            "\n",
            "Epoch 00140: loss improved from 0.63049 to 0.62981, saving model to nextword1.h5\n",
            "Epoch 141/150\n",
            "61/61 [==============================] - 14s 221ms/step - loss: 0.5985\n",
            "\n",
            "Epoch 00141: loss improved from 0.62981 to 0.62979, saving model to nextword1.h5\n",
            "Epoch 142/150\n",
            "61/61 [==============================] - 14s 221ms/step - loss: 0.6075\n",
            "\n",
            "Epoch 00142: loss did not improve from 0.62979\n",
            "Epoch 143/150\n",
            "61/61 [==============================] - 13s 221ms/step - loss: 0.5935\n",
            "\n",
            "Epoch 00143: loss did not improve from 0.62979\n",
            "Epoch 144/150\n",
            "61/61 [==============================] - 13s 221ms/step - loss: 0.6029\n",
            "\n",
            "Epoch 00144: loss improved from 0.62979 to 0.62958, saving model to nextword1.h5\n",
            "Epoch 145/150\n",
            "61/61 [==============================] - 16s 259ms/step - loss: 0.5961\n",
            "\n",
            "Epoch 00145: loss improved from 0.62958 to 0.62949, saving model to nextword1.h5\n",
            "Epoch 146/150\n",
            "61/61 [==============================] - 16s 257ms/step - loss: 0.5997\n",
            "\n",
            "Epoch 00146: loss improved from 0.62949 to 0.62947, saving model to nextword1.h5\n",
            "Epoch 147/150\n",
            "61/61 [==============================] - 14s 228ms/step - loss: 0.5949\n",
            "\n",
            "Epoch 00147: loss did not improve from 0.62947\n",
            "Epoch 148/150\n",
            "61/61 [==============================] - 14s 222ms/step - loss: 0.5951\n",
            "\n",
            "Epoch 00148: loss improved from 0.62947 to 0.62863, saving model to nextword1.h5\n",
            "Epoch 149/150\n",
            "61/61 [==============================] - 14s 229ms/step - loss: 0.6065\n",
            "\n",
            "Epoch 00149: loss did not improve from 0.62863\n",
            "Epoch 150/150\n",
            "61/61 [==============================] - 14s 227ms/step - loss: 0.6087\n",
            "\n",
            "Epoch 00150: loss improved from 0.62863 to 0.62861, saving model to nextword1.h5\n"
          ],
          "name": "stdout"
        },
        {
          "output_type": "execute_result",
          "data": {
            "text/plain": [
              "<tensorflow.python.keras.callbacks.History at 0x7f44c8ea64d0>"
            ]
          },
          "metadata": {
            "tags": []
          },
          "execution_count": 22
        }
      ]
    },
    {
      "cell_type": "code",
      "metadata": {
        "id": "_WBpX9j6Rmpu"
      },
      "source": [
        "from tensorflow.keras.models import load_model\n",
        "import numpy as np\n",
        "import pickle\n",
        "\n",
        "# Load the model and tokenizer\n",
        "\n",
        "model = load_model('nextword1.h5')\n",
        "tokenizer = pickle.load(open('tokenizer1.pkl', 'rb'))\n",
        "\n",
        "def Predict_Next_Words(model, tokenizer, text):\n",
        "    \"\"\"\n",
        "        In this function we are using the tokenizer and models trained\n",
        "        and we are creating the sequence of the text entered and then\n",
        "        using our model to predict and return the the predicted word.\n",
        "    \n",
        "    \"\"\"\n",
        "    for i in range(3):\n",
        "        sequence = tokenizer.texts_to_sequences([text])[0]\n",
        "        sequence = np.array(sequence)\n",
        "        \n",
        "        preds = model.predict_classes(sequence)\n",
        "#         print(preds)\n",
        "        predicted_word = \"\"\n",
        "        \n",
        "        for key, value in tokenizer.word_index.items():\n",
        "            if value == preds:\n",
        "                predicted_word = key\n",
        "                break\n",
        "        \n",
        "        print(predicted_word)\n",
        "        return predicted_word"
      ],
      "execution_count": null,
      "outputs": []
    },
    {
      "cell_type": "code",
      "metadata": {
        "id": "RMufKsf2hBXp"
      },
      "source": [
        ""
      ],
      "execution_count": null,
      "outputs": []
    },
    {
      "cell_type": "code",
      "metadata": {
        "colab": {
          "base_uri": "https://localhost:8080/"
        },
        "id": "L2CG3hoTdRtx",
        "outputId": "988e2f36-b3ef-4562-a4fb-a93df3dc18c0"
      },
      "source": [
        "while(True):\n",
        "\n",
        "    text = input(\"Enter your line: \")\n",
        "    \n",
        "    if text == \"stop the script\":\n",
        "        print(\"Ending The Program.....\")\n",
        "        break\n",
        "    \n",
        "    else:\n",
        "        try:\n",
        "            text = text.split(\" \")\n",
        "            text = text[-1]\n",
        "\n",
        "            text = ''.join(text)\n",
        "            Predict_Next_Words(model, tokenizer, text)\n",
        "            \n",
        "        except:\n",
        "            continue"
      ],
      "execution_count": null,
      "outputs": [
        {
          "output_type": "stream",
          "text": [
            "Enter your line: What's happened\n"
          ],
          "name": "stdout"
        },
        {
          "output_type": "stream",
          "text": [
            "/usr/local/lib/python3.7/dist-packages/tensorflow/python/keras/engine/sequential.py:450: UserWarning: `model.predict_classes()` is deprecated and will be removed after 2021-01-01. Please use instead:* `np.argmax(model.predict(x), axis=-1)`,   if your model does multi-class classification   (e.g. if it uses a `softmax` last-layer activation).* `(model.predict(x) > 0.5).astype(\"int32\")`,   if your model does binary classification   (e.g. if it uses a `sigmoid` last-layer activation).\n",
            "  warnings.warn('`model.predict_classes()` is deprecated and '\n"
          ],
          "name": "stderr"
        },
        {
          "output_type": "stream",
          "text": [
            "contrast\n",
            "Enter your line: at the dull\n",
            "weather\n",
            "Enter your line: what a strenuous\n",
            "career\n",
            "Enter your line: He was still\n",
            "sitting\n",
            "Enter your line: stop the script\n",
            "Ending The Program.....\n"
          ],
          "name": "stdout"
        }
      ]
    },
    {
      "cell_type": "code",
      "metadata": {
        "id": "jqn7PnZMgzME"
      },
      "source": [
        ""
      ],
      "execution_count": null,
      "outputs": []
    }
  ]
}