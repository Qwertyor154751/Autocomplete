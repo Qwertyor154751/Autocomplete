{
 "cells": [
  {
   "cell_type": "code",
   "execution_count": 3,
   "metadata": {
    "colab": {
     "base_uri": "https://localhost:8080/",
     "height": 54
    },
    "colab_type": "code",
    "id": "zVCF9Brf8W4F",
    "outputId": "25d9d2bd-8f4a-496a-e1ba-6456006cb0de"
   },
   "outputs": [
    {
     "ename": "LookupError",
     "evalue": "\n**********************************************************************\n  Resource \u001b[93mpunkt\u001b[0m not found.\n  Please use the NLTK Downloader to obtain the resource:\n\n  \u001b[31m>>> import nltk\n  >>> nltk.download('punkt')\n  \u001b[0m\n  For more information see: https://www.nltk.org/data.html\n\n  Attempted to load \u001b[93mtokenizers/punkt/english.pickle\u001b[0m\n\n  Searched in:\n    - 'C:\\\\Users\\\\Vineeth/nltk_data'\n    - 'f:\\\\pro\\\\env\\\\nltk_data'\n    - 'f:\\\\pro\\\\env\\\\share\\\\nltk_data'\n    - 'f:\\\\pro\\\\env\\\\lib\\\\nltk_data'\n    - 'C:\\\\Users\\\\Vineeth\\\\AppData\\\\Roaming\\\\nltk_data'\n    - 'C:\\\\nltk_data'\n    - 'D:\\\\nltk_data'\n    - 'E:\\\\nltk_data'\n    - ''\n**********************************************************************\n",
     "output_type": "error",
     "traceback": [
      "\u001b[1;31m---------------------------------------------------------------------------\u001b[0m",
      "\u001b[1;31mLookupError\u001b[0m                               Traceback (most recent call last)",
      "\u001b[1;32m<ipython-input-3-b0427cb8beac>\u001b[0m in \u001b[0;36m<module>\u001b[1;34m\u001b[0m\n\u001b[0;32m      8\u001b[0m \u001b[1;33m\u001b[0m\u001b[0m\n\u001b[0;32m      9\u001b[0m \u001b[0mcleaned\u001b[0m \u001b[1;33m=\u001b[0m \u001b[0mre\u001b[0m\u001b[1;33m.\u001b[0m\u001b[0msub\u001b[0m\u001b[1;33m(\u001b[0m\u001b[1;34mr'\\W+'\u001b[0m\u001b[1;33m,\u001b[0m \u001b[1;34m' '\u001b[0m\u001b[1;33m,\u001b[0m\u001b[0mf\u001b[0m\u001b[1;33m.\u001b[0m\u001b[0mread\u001b[0m\u001b[1;33m(\u001b[0m\u001b[1;33m)\u001b[0m\u001b[1;33m[\u001b[0m\u001b[1;36m6000\u001b[0m\u001b[1;33m]\u001b[0m\u001b[1;33m)\u001b[0m\u001b[1;33m.\u001b[0m\u001b[0mlower\u001b[0m\u001b[1;33m(\u001b[0m\u001b[1;33m)\u001b[0m\u001b[1;33m\u001b[0m\u001b[1;33m\u001b[0m\u001b[0m\n\u001b[1;32m---> 10\u001b[1;33m \u001b[0mtokens\u001b[0m \u001b[1;33m=\u001b[0m \u001b[0mword_tokenize\u001b[0m\u001b[1;33m(\u001b[0m\u001b[0mcleaned\u001b[0m\u001b[1;33m)\u001b[0m\u001b[1;33m\u001b[0m\u001b[1;33m\u001b[0m\u001b[0m\n\u001b[0m\u001b[0;32m     11\u001b[0m \u001b[0mtrain_len\u001b[0m \u001b[1;33m=\u001b[0m \u001b[1;36m3\u001b[0m\u001b[1;33m+\u001b[0m\u001b[1;36m1\u001b[0m\u001b[1;33m\u001b[0m\u001b[1;33m\u001b[0m\u001b[0m\n\u001b[0;32m     12\u001b[0m \u001b[0mtext_sequences\u001b[0m \u001b[1;33m=\u001b[0m \u001b[1;33m[\u001b[0m\u001b[1;33m]\u001b[0m\u001b[1;33m\u001b[0m\u001b[1;33m\u001b[0m\u001b[0m\n",
      "\u001b[1;32mf:\\pro\\env\\lib\\site-packages\\nltk\\tokenize\\__init__.py\u001b[0m in \u001b[0;36mword_tokenize\u001b[1;34m(text, language, preserve_line)\u001b[0m\n\u001b[0;32m    127\u001b[0m     \u001b[1;33m:\u001b[0m\u001b[0mtype\u001b[0m \u001b[0mpreserve_line\u001b[0m\u001b[1;33m:\u001b[0m \u001b[0mbool\u001b[0m\u001b[1;33m\u001b[0m\u001b[1;33m\u001b[0m\u001b[0m\n\u001b[0;32m    128\u001b[0m     \"\"\"\n\u001b[1;32m--> 129\u001b[1;33m     \u001b[0msentences\u001b[0m \u001b[1;33m=\u001b[0m \u001b[1;33m[\u001b[0m\u001b[0mtext\u001b[0m\u001b[1;33m]\u001b[0m \u001b[1;32mif\u001b[0m \u001b[0mpreserve_line\u001b[0m \u001b[1;32melse\u001b[0m \u001b[0msent_tokenize\u001b[0m\u001b[1;33m(\u001b[0m\u001b[0mtext\u001b[0m\u001b[1;33m,\u001b[0m \u001b[0mlanguage\u001b[0m\u001b[1;33m)\u001b[0m\u001b[1;33m\u001b[0m\u001b[1;33m\u001b[0m\u001b[0m\n\u001b[0m\u001b[0;32m    130\u001b[0m     return [\n\u001b[0;32m    131\u001b[0m         \u001b[0mtoken\u001b[0m \u001b[1;32mfor\u001b[0m \u001b[0msent\u001b[0m \u001b[1;32min\u001b[0m \u001b[0msentences\u001b[0m \u001b[1;32mfor\u001b[0m \u001b[0mtoken\u001b[0m \u001b[1;32min\u001b[0m \u001b[0m_treebank_word_tokenizer\u001b[0m\u001b[1;33m.\u001b[0m\u001b[0mtokenize\u001b[0m\u001b[1;33m(\u001b[0m\u001b[0msent\u001b[0m\u001b[1;33m)\u001b[0m\u001b[1;33m\u001b[0m\u001b[1;33m\u001b[0m\u001b[0m\n",
      "\u001b[1;32mf:\\pro\\env\\lib\\site-packages\\nltk\\tokenize\\__init__.py\u001b[0m in \u001b[0;36msent_tokenize\u001b[1;34m(text, language)\u001b[0m\n\u001b[0;32m    104\u001b[0m     \u001b[1;33m:\u001b[0m\u001b[0mparam\u001b[0m \u001b[0mlanguage\u001b[0m\u001b[1;33m:\u001b[0m \u001b[0mthe\u001b[0m \u001b[0mmodel\u001b[0m \u001b[0mname\u001b[0m \u001b[1;32min\u001b[0m \u001b[0mthe\u001b[0m \u001b[0mPunkt\u001b[0m \u001b[0mcorpus\u001b[0m\u001b[1;33m\u001b[0m\u001b[1;33m\u001b[0m\u001b[0m\n\u001b[0;32m    105\u001b[0m     \"\"\"\n\u001b[1;32m--> 106\u001b[1;33m     \u001b[0mtokenizer\u001b[0m \u001b[1;33m=\u001b[0m \u001b[0mload\u001b[0m\u001b[1;33m(\u001b[0m\u001b[1;34m\"tokenizers/punkt/{0}.pickle\"\u001b[0m\u001b[1;33m.\u001b[0m\u001b[0mformat\u001b[0m\u001b[1;33m(\u001b[0m\u001b[0mlanguage\u001b[0m\u001b[1;33m)\u001b[0m\u001b[1;33m)\u001b[0m\u001b[1;33m\u001b[0m\u001b[1;33m\u001b[0m\u001b[0m\n\u001b[0m\u001b[0;32m    107\u001b[0m     \u001b[1;32mreturn\u001b[0m \u001b[0mtokenizer\u001b[0m\u001b[1;33m.\u001b[0m\u001b[0mtokenize\u001b[0m\u001b[1;33m(\u001b[0m\u001b[0mtext\u001b[0m\u001b[1;33m)\u001b[0m\u001b[1;33m\u001b[0m\u001b[1;33m\u001b[0m\u001b[0m\n\u001b[0;32m    108\u001b[0m \u001b[1;33m\u001b[0m\u001b[0m\n",
      "\u001b[1;32mf:\\pro\\env\\lib\\site-packages\\nltk\\data.py\u001b[0m in \u001b[0;36mload\u001b[1;34m(resource_url, format, cache, verbose, logic_parser, fstruct_reader, encoding)\u001b[0m\n\u001b[0;32m    750\u001b[0m \u001b[1;33m\u001b[0m\u001b[0m\n\u001b[0;32m    751\u001b[0m     \u001b[1;31m# Load the resource.\u001b[0m\u001b[1;33m\u001b[0m\u001b[1;33m\u001b[0m\u001b[1;33m\u001b[0m\u001b[0m\n\u001b[1;32m--> 752\u001b[1;33m     \u001b[0mopened_resource\u001b[0m \u001b[1;33m=\u001b[0m \u001b[0m_open\u001b[0m\u001b[1;33m(\u001b[0m\u001b[0mresource_url\u001b[0m\u001b[1;33m)\u001b[0m\u001b[1;33m\u001b[0m\u001b[1;33m\u001b[0m\u001b[0m\n\u001b[0m\u001b[0;32m    753\u001b[0m \u001b[1;33m\u001b[0m\u001b[0m\n\u001b[0;32m    754\u001b[0m     \u001b[1;32mif\u001b[0m \u001b[0mformat\u001b[0m \u001b[1;33m==\u001b[0m \u001b[1;34m\"raw\"\u001b[0m\u001b[1;33m:\u001b[0m\u001b[1;33m\u001b[0m\u001b[1;33m\u001b[0m\u001b[0m\n",
      "\u001b[1;32mf:\\pro\\env\\lib\\site-packages\\nltk\\data.py\u001b[0m in \u001b[0;36m_open\u001b[1;34m(resource_url)\u001b[0m\n\u001b[0;32m    875\u001b[0m \u001b[1;33m\u001b[0m\u001b[0m\n\u001b[0;32m    876\u001b[0m     \u001b[1;32mif\u001b[0m \u001b[0mprotocol\u001b[0m \u001b[1;32mis\u001b[0m \u001b[1;32mNone\u001b[0m \u001b[1;32mor\u001b[0m \u001b[0mprotocol\u001b[0m\u001b[1;33m.\u001b[0m\u001b[0mlower\u001b[0m\u001b[1;33m(\u001b[0m\u001b[1;33m)\u001b[0m \u001b[1;33m==\u001b[0m \u001b[1;34m\"nltk\"\u001b[0m\u001b[1;33m:\u001b[0m\u001b[1;33m\u001b[0m\u001b[1;33m\u001b[0m\u001b[0m\n\u001b[1;32m--> 877\u001b[1;33m         \u001b[1;32mreturn\u001b[0m \u001b[0mfind\u001b[0m\u001b[1;33m(\u001b[0m\u001b[0mpath_\u001b[0m\u001b[1;33m,\u001b[0m \u001b[0mpath\u001b[0m \u001b[1;33m+\u001b[0m \u001b[1;33m[\u001b[0m\u001b[1;34m\"\"\u001b[0m\u001b[1;33m]\u001b[0m\u001b[1;33m)\u001b[0m\u001b[1;33m.\u001b[0m\u001b[0mopen\u001b[0m\u001b[1;33m(\u001b[0m\u001b[1;33m)\u001b[0m\u001b[1;33m\u001b[0m\u001b[1;33m\u001b[0m\u001b[0m\n\u001b[0m\u001b[0;32m    878\u001b[0m     \u001b[1;32melif\u001b[0m \u001b[0mprotocol\u001b[0m\u001b[1;33m.\u001b[0m\u001b[0mlower\u001b[0m\u001b[1;33m(\u001b[0m\u001b[1;33m)\u001b[0m \u001b[1;33m==\u001b[0m \u001b[1;34m\"file\"\u001b[0m\u001b[1;33m:\u001b[0m\u001b[1;33m\u001b[0m\u001b[1;33m\u001b[0m\u001b[0m\n\u001b[0;32m    879\u001b[0m         \u001b[1;31m# urllib might not use mode='rb', so handle this one ourselves:\u001b[0m\u001b[1;33m\u001b[0m\u001b[1;33m\u001b[0m\u001b[1;33m\u001b[0m\u001b[0m\n",
      "\u001b[1;32mf:\\pro\\env\\lib\\site-packages\\nltk\\data.py\u001b[0m in \u001b[0;36mfind\u001b[1;34m(resource_name, paths)\u001b[0m\n\u001b[0;32m    583\u001b[0m     \u001b[0msep\u001b[0m \u001b[1;33m=\u001b[0m \u001b[1;34m\"*\"\u001b[0m \u001b[1;33m*\u001b[0m \u001b[1;36m70\u001b[0m\u001b[1;33m\u001b[0m\u001b[1;33m\u001b[0m\u001b[0m\n\u001b[0;32m    584\u001b[0m     \u001b[0mresource_not_found\u001b[0m \u001b[1;33m=\u001b[0m \u001b[1;34m\"\\n%s\\n%s\\n%s\\n\"\u001b[0m \u001b[1;33m%\u001b[0m \u001b[1;33m(\u001b[0m\u001b[0msep\u001b[0m\u001b[1;33m,\u001b[0m \u001b[0mmsg\u001b[0m\u001b[1;33m,\u001b[0m \u001b[0msep\u001b[0m\u001b[1;33m)\u001b[0m\u001b[1;33m\u001b[0m\u001b[1;33m\u001b[0m\u001b[0m\n\u001b[1;32m--> 585\u001b[1;33m     \u001b[1;32mraise\u001b[0m \u001b[0mLookupError\u001b[0m\u001b[1;33m(\u001b[0m\u001b[0mresource_not_found\u001b[0m\u001b[1;33m)\u001b[0m\u001b[1;33m\u001b[0m\u001b[1;33m\u001b[0m\u001b[0m\n\u001b[0m\u001b[0;32m    586\u001b[0m \u001b[1;33m\u001b[0m\u001b[0m\n\u001b[0;32m    587\u001b[0m \u001b[1;33m\u001b[0m\u001b[0m\n",
      "\u001b[1;31mLookupError\u001b[0m: \n**********************************************************************\n  Resource \u001b[93mpunkt\u001b[0m not found.\n  Please use the NLTK Downloader to obtain the resource:\n\n  \u001b[31m>>> import nltk\n  >>> nltk.download('punkt')\n  \u001b[0m\n  For more information see: https://www.nltk.org/data.html\n\n  Attempted to load \u001b[93mtokenizers/punkt/english.pickle\u001b[0m\n\n  Searched in:\n    - 'C:\\\\Users\\\\Vineeth/nltk_data'\n    - 'f:\\\\pro\\\\env\\\\nltk_data'\n    - 'f:\\\\pro\\\\env\\\\share\\\\nltk_data'\n    - 'f:\\\\pro\\\\env\\\\lib\\\\nltk_data'\n    - 'C:\\\\Users\\\\Vineeth\\\\AppData\\\\Roaming\\\\nltk_data'\n    - 'C:\\\\nltk_data'\n    - 'D:\\\\nltk_data'\n    - 'E:\\\\nltk_data'\n    - ''\n**********************************************************************\n"
     ]
    }
   ],
   "source": [
    "from keras.preprocessing.text import Tokenizer\n",
    "import nltk\n",
    "from nltk.tokenize import word_tokenize\n",
    "import numpy as np\n",
    "import re\n",
    "from keras.utils import to_categorical\n",
    "f = open(\"big.txt\")\n",
    "\n"
   ]
  },
  {
   "cell_type": "code",
   "execution_count": 4,
   "metadata": {},
   "outputs": [
    {
     "name": "stderr",
     "output_type": "stream",
     "text": [
      "[nltk_data] Downloading package punkt to\n",
      "[nltk_data]     C:\\Users\\Vineeth\\AppData\\Roaming\\nltk_data...\n",
      "[nltk_data]   Unzipping tokenizers\\punkt.zip.\n"
     ]
    },
    {
     "data": {
      "text/plain": [
       "True"
      ]
     },
     "execution_count": 4,
     "metadata": {},
     "output_type": "execute_result"
    }
   ],
   "source": [
    "nltk.download('punkt')"
   ]
  },
  {
   "cell_type": "code",
   "execution_count": 9,
   "metadata": {},
   "outputs": [
    {
     "data": {
      "text/plain": [
       "3603366"
      ]
     },
     "execution_count": 9,
     "metadata": {},
     "output_type": "execute_result"
    }
   ],
   "source": [
    "f = open(\"big.txt\")\n",
    "data = f.read()\n",
    "len(data)"
   ]
  },
  {
   "cell_type": "code",
   "execution_count": 39,
   "metadata": {},
   "outputs": [],
   "source": [
    "cleaned = re.sub(r'\\W+', ' ',data[:100000]).lower()\n",
    "tokens = word_tokenize(cleaned)\n",
    "train_len = 3+1\n",
    "text_sequences = []\n",
    "for i in range(train_len,len(tokens)):\n",
    "    seq = tokens[i-train_len:i]\n",
    "    text_sequences.append(seq)\n",
    "sequences = {}\n",
    "count = 1\n",
    "for i in range(len(tokens)):\n",
    "    if tokens[i] not in sequences:\n",
    "        sequences[tokens[i]] = count\n",
    "        count += 1\n",
    "tokenizer = Tokenizer()\n",
    "tokenizer.fit_on_texts(text_sequences)\n",
    "sequences = tokenizer.texts_to_sequences(text_sequences) \n",
    "\n",
    "#Collecting some information   \n",
    "vocabulary_size = len(tokenizer.word_counts)+1\n",
    "\n",
    "n_sequences = np.empty([len(sequences),train_len], dtype='int32')\n",
    "for i in range(len(sequences)):\n",
    "    n_sequences[i] = sequences[i]\n"
   ]
  },
  {
   "cell_type": "code",
   "execution_count": 43,
   "metadata": {
    "colab": {
     "base_uri": "https://localhost:8080/",
     "height": 35
    },
    "colab_type": "code",
    "id": "Wa7TUET-8oUe",
    "outputId": "7b0447cf-2777-495f-82e8-31329d42df39"
   },
   "outputs": [
    {
     "data": {
      "text/plain": [
       "(18683, 3)"
      ]
     },
     "execution_count": 43,
     "metadata": {},
     "output_type": "execute_result"
    }
   ],
   "source": [
    "train_inputs = n_sequences[:,:-1]\n",
    "train_targets = n_sequences[:,-1]\n",
    "train_targets = to_categorical(train_targets, num_classes=vocabulary_size)\n",
    "seq_len = train_inputs.shape[1]\n",
    "train_inputs.shape\n",
    "#print(train_targets[0])\n"
   ]
  },
  {
   "cell_type": "code",
   "execution_count": 41,
   "metadata": {
    "colab": {
     "base_uri": "https://localhost:8080/",
     "height": 35
    },
    "colab_type": "code",
    "id": "fcYDEY3j9CJO",
    "outputId": "fb21ac43-6b9a-4a09-dd03-bf20b76d7b1a"
   },
   "outputs": [
    {
     "data": {
      "text/plain": [
       "array([0., 0., 0., ..., 0., 0., 0.], dtype=float32)"
      ]
     },
     "execution_count": 41,
     "metadata": {},
     "output_type": "execute_result"
    }
   ],
   "source": [
    "train_targets[0]"
   ]
  },
  {
   "cell_type": "code",
   "execution_count": null,
   "metadata": {
    "colab": {
     "base_uri": "https://localhost:8080/",
     "height": 92
    },
    "colab_type": "code",
    "id": "YsLaH73l9PkF",
    "outputId": "ea9e35cd-5671-4843-fe2d-66af21f49c81"
   },
   "outputs": [
    {
     "name": "stdout",
     "output_type": "stream",
     "text": [
      "Model: \"sequential_6\"\n",
      "_________________________________________________________________\n",
      "Layer (type)                 Output Shape              Param #   \n",
      "=================================================================\n",
      "embedding_6 (Embedding)      (None, 3, 3)              9417      \n",
      "_________________________________________________________________\n",
      "lstm_12 (LSTM)               (None, 3, 50)             10800     \n",
      "_________________________________________________________________\n",
      "lstm_13 (LSTM)               (None, 50)                20200     \n",
      "_________________________________________________________________\n",
      "dense_12 (Dense)             (None, 50)                2550      \n",
      "_________________________________________________________________\n",
      "dense_13 (Dense)             (None, 3139)              160089    \n",
      "=================================================================\n",
      "Total params: 203,056\n",
      "Trainable params: 203,056\n",
      "Non-trainable params: 0\n",
      "_________________________________________________________________\n",
      "None\n",
      "Epoch 1/500\n",
      "584/584 [==============================] - 26s 22ms/step - loss: 6.9753 - accuracy: 0.0440\n",
      "Epoch 2/500\n",
      "584/584 [==============================] - 13s 22ms/step - loss: 6.2699 - accuracy: 0.0525\n",
      "Epoch 3/500\n",
      "584/584 [==============================] - 13s 22ms/step - loss: 6.2304 - accuracy: 0.0527\n",
      "Epoch 4/500\n",
      "584/584 [==============================] - 13s 23ms/step - loss: 6.0811 - accuracy: 0.0509\n",
      "Epoch 5/500\n",
      "584/584 [==============================] - 15s 26ms/step - loss: 5.9707 - accuracy: 0.0485\n",
      "Epoch 6/500\n",
      "584/584 [==============================] - 13s 22ms/step - loss: 5.7679 - accuracy: 0.0646\n",
      "Epoch 7/500\n",
      "584/584 [==============================] - 13s 22ms/step - loss: 5.6404 - accuracy: 0.0693\n",
      "Epoch 8/500\n",
      "584/584 [==============================] - 12s 21ms/step - loss: 5.5507 - accuracy: 0.0723\n",
      "Epoch 9/500\n",
      "584/584 [==============================] - 12s 21ms/step - loss: 5.4607 - accuracy: 0.0767\n",
      "Epoch 10/500\n",
      "584/584 [==============================] - 13s 22ms/step - loss: 5.3696 - accuracy: 0.07510s - loss: 5.3694 - \n",
      "Epoch 11/500\n",
      "584/584 [==============================] - 13s 22ms/step - loss: 5.2732 - accuracy: 0.0806\n",
      "Epoch 12/500\n",
      "584/584 [==============================] - 13s 22ms/step - loss: 5.2070 - accuracy: 0.0870\n",
      "Epoch 13/500\n",
      "584/584 [==============================] - 12s 21ms/step - loss: 5.1098 - accuracy: 0.0931\n",
      "Epoch 14/500\n",
      "584/584 [==============================] - 12s 21ms/step - loss: 5.0218 - accuracy: 0.09320s - loss: 5.0217 - accuracy: 0.09\n",
      "Epoch 15/500\n",
      "584/584 [==============================] - 12s 21ms/step - loss: 4.9454 - accuracy: 0.0944\n",
      "Epoch 16/500\n",
      "584/584 [==============================] - 13s 22ms/step - loss: 4.9102 - accuracy: 0.0944\n",
      "Epoch 17/500\n",
      "584/584 [==============================] - 13s 21ms/step - loss: 4.8555 - accuracy: 0.0944\n",
      "Epoch 18/500\n",
      "584/584 [==============================] - 13s 21ms/step - loss: 4.7716 - accuracy: 0.1023\n",
      "Epoch 19/500\n",
      "584/584 [==============================] - 13s 22ms/step - loss: 4.7385 - accuracy: 0.1011\n",
      "Epoch 20/500\n",
      "584/584 [==============================] - 13s 23ms/step - loss: 4.6588 - accuracy: 0.1081\n",
      "Epoch 21/500\n",
      "584/584 [==============================] - 12s 20ms/step - loss: 4.6325 - accuracy: 0.1068\n",
      "Epoch 22/500\n",
      "584/584 [==============================] - 12s 21ms/step - loss: 4.5600 - accuracy: 0.1099\n",
      "Epoch 23/500\n",
      "584/584 [==============================] - 13s 22ms/step - loss: 4.5059 - accuracy: 0.1158\n",
      "Epoch 24/500\n",
      "584/584 [==============================] - 14s 23ms/step - loss: 4.4355 - accuracy: 0.1170\n",
      "Epoch 25/500\n",
      "584/584 [==============================] - 13s 22ms/step - loss: 4.3593 - accuracy: 0.1234\n",
      "Epoch 26/500\n",
      "584/584 [==============================] - 12s 21ms/step - loss: 4.3087 - accuracy: 0.12662s - loss: 4.2961 - accuracy - E\n",
      "Epoch 27/500\n",
      "584/584 [==============================] - 12s 21ms/step - loss: 4.2672 - accuracy: 0.12360s - loss: 4.2659 - ac\n",
      "Epoch 28/500\n",
      "584/584 [==============================] - 13s 23ms/step - loss: 4.2017 - accuracy: 0.1311\n",
      "Epoch 29/500\n",
      "584/584 [==============================] - 12s 20ms/step - loss: 4.1603 - accuracy: 0.1352\n",
      "Epoch 30/500\n",
      "584/584 [==============================] - 12s 20ms/step - loss: 4.0954 - accuracy: 0.1422\n",
      "Epoch 31/500\n",
      "584/584 [==============================] - 13s 22ms/step - loss: 4.0688 - accuracy: 0.1399\n",
      "Epoch 32/500\n",
      "584/584 [==============================] - 13s 22ms/step - loss: 3.9953 - accuracy: 0.1491\n",
      "Epoch 33/500\n",
      "584/584 [==============================] - 13s 23ms/step - loss: 3.9561 - accuracy: 0.1562\n",
      "Epoch 34/500\n",
      "584/584 [==============================] - 13s 23ms/step - loss: 3.9132 - accuracy: 0.1607\n",
      "Epoch 35/500\n",
      "584/584 [==============================] - 12s 21ms/step - loss: 3.8662 - accuracy: 0.1630\n",
      "Epoch 36/500\n",
      "584/584 [==============================] - 12s 21ms/step - loss: 3.8406 - accuracy: 0.1645\n",
      "Epoch 37/500\n",
      "584/584 [==============================] - 12s 21ms/step - loss: 3.8316 - accuracy: 0.1686\n",
      "Epoch 38/500\n",
      "584/584 [==============================] - 12s 21ms/step - loss: 3.7402 - accuracy: 0.1786\n",
      "Epoch 39/500\n",
      "584/584 [==============================] - 12s 21ms/step - loss: 3.7169 - accuracy: 0.17790s - loss: 3.713\n",
      "Epoch 40/500\n",
      "584/584 [==============================] - 12s 21ms/step - loss: 3.7255 - accuracy: 0.1792\n",
      "Epoch 41/500\n",
      "584/584 [==============================] - 12s 21ms/step - loss: 3.6663 - accuracy: 0.19570s - loss: 3.6636 - \n",
      "Epoch 42/500\n",
      "584/584 [==============================] - 12s 21ms/step - loss: 3.6219 - accuracy: 0.1927\n",
      "Epoch 43/500\n",
      "584/584 [==============================] - 13s 22ms/step - loss: 3.6056 - accuracy: 0.1968\n",
      "Epoch 44/500\n",
      "584/584 [==============================] - 13s 22ms/step - loss: 3.5954 - accuracy: 0.1979\n",
      "Epoch 45/500\n",
      "584/584 [==============================] - 13s 22ms/step - loss: 3.5673 - accuracy: 0.1963\n",
      "Epoch 46/500\n",
      "584/584 [==============================] - 13s 22ms/step - loss: 3.5372 - accuracy: 0.2066\n",
      "Epoch 47/500\n",
      "584/584 [==============================] - 13s 22ms/step - loss: 3.5009 - accuracy: 0.21290s - loss: 3.4983 - ac\n",
      "Epoch 48/500\n",
      "584/584 [==============================] - 13s 22ms/step - loss: 3.4868 - accuracy: 0.2082\n",
      "Epoch 49/500\n",
      "584/584 [==============================] - 13s 22ms/step - loss: 3.4657 - accuracy: 0.21990s - los\n",
      "Epoch 50/500\n",
      "584/584 [==============================] - 13s 22ms/step - loss: 3.4303 - accuracy: 0.2203\n",
      "Epoch 51/500\n",
      "584/584 [==============================] - 13s 22ms/step - loss: 3.4176 - accuracy: 0.2284\n",
      "Epoch 52/500\n",
      "584/584 [==============================] - 13s 22ms/step - loss: 3.3873 - accuracy: 0.2315\n",
      "Epoch 53/500\n",
      "584/584 [==============================] - 13s 22ms/step - loss: 3.3601 - accuracy: 0.2378\n",
      "Epoch 54/500\n",
      "584/584 [==============================] - 13s 22ms/step - loss: 3.3405 - accuracy: 0.2353\n",
      "Epoch 55/500\n",
      "584/584 [==============================] - 13s 23ms/step - loss: 3.3352 - accuracy: 0.2421\n",
      "Epoch 56/500\n",
      "584/584 [==============================] - 13s 23ms/step - loss: 3.3080 - accuracy: 0.2438\n",
      "Epoch 57/500\n",
      "584/584 [==============================] - 13s 22ms/step - loss: 3.2999 - accuracy: 0.2390\n",
      "Epoch 58/500\n",
      "584/584 [==============================] - 13s 22ms/step - loss: 3.2809 - accuracy: 0.24701s\n",
      "Epoch 59/500\n",
      "584/584 [==============================] - 13s 22ms/step - loss: 3.2552 - accuracy: 0.2469\n",
      "Epoch 60/500\n",
      "584/584 [==============================] - 13s 22ms/step - loss: 3.2547 - accuracy: 0.2488\n",
      "Epoch 61/500\n",
      "584/584 [==============================] - 13s 23ms/step - loss: 3.2145 - accuracy: 0.2588\n",
      "Epoch 62/500\n",
      "584/584 [==============================] - 13s 22ms/step - loss: 3.2043 - accuracy: 0.2593\n",
      "Epoch 63/500\n",
      "584/584 [==============================] - 13s 23ms/step - loss: 3.1842 - accuracy: 0.2598\n",
      "Epoch 64/500\n",
      "584/584 [==============================] - 13s 22ms/step - loss: 3.1590 - accuracy: 0.2696\n",
      "Epoch 65/500\n",
      "584/584 [==============================] - 13s 23ms/step - loss: 3.1476 - accuracy: 0.2738\n",
      "Epoch 66/500\n",
      "584/584 [==============================] - 14s 23ms/step - loss: 3.1290 - accuracy: 0.2717\n",
      "Epoch 67/500\n"
     ]
    },
    {
     "name": "stdout",
     "output_type": "stream",
     "text": [
      "584/584 [==============================] - 13s 23ms/step - loss: 3.1092 - accuracy: 0.2781\n",
      "Epoch 68/500\n",
      "584/584 [==============================] - 13s 22ms/step - loss: 3.0980 - accuracy: 0.2763\n",
      "Epoch 69/500\n",
      "584/584 [==============================] - 13s 22ms/step - loss: 3.1023 - accuracy: 0.2775\n",
      "Epoch 70/500\n",
      "584/584 [==============================] - 13s 23ms/step - loss: 3.0875 - accuracy: 0.2765\n",
      "Epoch 71/500\n",
      "584/584 [==============================] - ETA: 0s - loss: 3.0762 - accuracy: 0.27 - 13s 23ms/step - loss: 3.0763 - accuracy: 0.2792\n",
      "Epoch 72/500\n",
      "584/584 [==============================] - 14s 23ms/step - loss: 3.0682 - accuracy: 0.28490s - loss: 3.0662 \n",
      "Epoch 73/500\n",
      "584/584 [==============================] - 13s 22ms/step - loss: 3.0020 - accuracy: 0.2960\n",
      "Epoch 74/500\n",
      "584/584 [==============================] - 14s 24ms/step - loss: 2.9938 - accuracy: 0.2952\n",
      "Epoch 75/500\n",
      "584/584 [==============================] - 13s 23ms/step - loss: 3.0025 - accuracy: 0.2941\n",
      "Epoch 76/500\n",
      "584/584 [==============================] - 14s 23ms/step - loss: 2.9941 - accuracy: 0.2990\n",
      "Epoch 77/500\n",
      "584/584 [==============================] - 13s 23ms/step - loss: 2.9795 - accuracy: 0.2981\n",
      "Epoch 78/500\n",
      "584/584 [==============================] - 13s 23ms/step - loss: 2.9974 - accuracy: 0.2941\n",
      "Epoch 79/500\n",
      "584/584 [==============================] - 13s 23ms/step - loss: 2.9601 - accuracy: 0.3016\n",
      "Epoch 80/500\n",
      "584/584 [==============================] - 14s 23ms/step - loss: 2.9448 - accuracy: 0.3025\n",
      "Epoch 81/500\n",
      "584/584 [==============================] - 14s 24ms/step - loss: 2.9479 - accuracy: 0.3056\n",
      "Epoch 82/500\n",
      "584/584 [==============================] - 15s 26ms/step - loss: 2.9259 - accuracy: 0.3062\n",
      "Epoch 83/500\n",
      "584/584 [==============================] - 15s 26ms/step - loss: 2.9136 - accuracy: 0.3099\n",
      "Epoch 84/500\n",
      "584/584 [==============================] - 15s 26ms/step - loss: 2.8881 - accuracy: 0.3142\n",
      "Epoch 85/500\n",
      "584/584 [==============================] - 15s 27ms/step - loss: 2.8970 - accuracy: 0.3143\n",
      "Epoch 86/500\n",
      "584/584 [==============================] - 15s 26ms/step - loss: 2.8770 - accuracy: 0.3226\n",
      "Epoch 87/500\n",
      "584/584 [==============================] - 15s 26ms/step - loss: 2.8541 - accuracy: 0.3245\n",
      "Epoch 88/500\n",
      "584/584 [==============================] - 15s 26ms/step - loss: 2.8799 - accuracy: 0.3147\n",
      "Epoch 89/500\n",
      "584/584 [==============================] - 15s 25ms/step - loss: 2.8547 - accuracy: 0.3177\n",
      "Epoch 90/500\n",
      "584/584 [==============================] - 14s 24ms/step - loss: 2.8249 - accuracy: 0.3218\n",
      "Epoch 91/500\n",
      "584/584 [==============================] - 14s 25ms/step - loss: 2.8150 - accuracy: 0.3300\n",
      "Epoch 92/500\n",
      "584/584 [==============================] - 14s 25ms/step - loss: 2.8136 - accuracy: 0.3296\n",
      "Epoch 93/500\n",
      "584/584 [==============================] - 14s 24ms/step - loss: 2.7713 - accuracy: 0.3355\n",
      "Epoch 94/500\n",
      "584/584 [==============================] - 14s 25ms/step - loss: 2.7739 - accuracy: 0.3417\n",
      "Epoch 95/500\n",
      "584/584 [==============================] - 14s 24ms/step - loss: 2.7800 - accuracy: 0.3305\n",
      "Epoch 96/500\n",
      "584/584 [==============================] - 14s 24ms/step - loss: 2.7588 - accuracy: 0.3442\n",
      "Epoch 97/500\n",
      "584/584 [==============================] - 14s 24ms/step - loss: 2.7801 - accuracy: 0.3362\n",
      "Epoch 98/500\n",
      "584/584 [==============================] - 14s 24ms/step - loss: 2.7395 - accuracy: 0.3401\n",
      "Epoch 99/500\n",
      "584/584 [==============================] - 14s 24ms/step - loss: 2.7368 - accuracy: 0.3425\n",
      "Epoch 100/500\n",
      "584/584 [==============================] - 14s 24ms/step - loss: 2.7156 - accuracy: 0.3540\n",
      "Epoch 101/500\n",
      "584/584 [==============================] - 14s 24ms/step - loss: 2.7284 - accuracy: 0.3417\n",
      "Epoch 102/500\n",
      "584/584 [==============================] - 14s 24ms/step - loss: 2.7233 - accuracy: 0.34320s - loss: 2.7\n",
      "Epoch 103/500\n",
      "584/584 [==============================] - 14s 24ms/step - loss: 2.7347 - accuracy: 0.3455\n",
      "Epoch 104/500\n",
      "584/584 [==============================] - 14s 24ms/step - loss: 2.6826 - accuracy: 0.3480\n",
      "Epoch 105/500\n",
      "584/584 [==============================] - 14s 25ms/step - loss: 2.7192 - accuracy: 0.3519\n",
      "Epoch 106/500\n",
      "584/584 [==============================] - 14s 24ms/step - loss: 2.6615 - accuracy: 0.3605\n",
      "Epoch 107/500\n",
      "584/584 [==============================] - 14s 24ms/step - loss: 2.6918 - accuracy: 0.3471\n",
      "Epoch 108/500\n",
      "584/584 [==============================] - 14s 24ms/step - loss: 2.6525 - accuracy: 0.3604\n",
      "Epoch 109/500\n",
      "584/584 [==============================] - 14s 24ms/step - loss: 2.6563 - accuracy: 0.3586\n",
      "Epoch 110/500\n",
      "584/584 [==============================] - 13s 22ms/step - loss: 2.6264 - accuracy: 0.3650\n",
      "Epoch 111/500\n",
      "584/584 [==============================] - 13s 23ms/step - loss: 2.6271 - accuracy: 0.3647\n",
      "Epoch 112/500\n",
      "584/584 [==============================] - 13s 22ms/step - loss: 2.6283 - accuracy: 0.3636\n",
      "Epoch 113/500\n",
      "584/584 [==============================] - 14s 23ms/step - loss: 2.6303 - accuracy: 0.3628\n",
      "Epoch 114/500\n",
      "584/584 [==============================] - 13s 22ms/step - loss: 2.5992 - accuracy: 0.3637\n",
      "Epoch 115/500\n",
      "584/584 [==============================] - 13s 22ms/step - loss: 2.6108 - accuracy: 0.36643s - loss: 2.5928 - accu - E - ETA: 2s - - ETA: \n",
      "Epoch 116/500\n",
      "584/584 [==============================] - 13s 22ms/step - loss: 2.6217 - accuracy: 0.3573\n",
      "Epoch 117/500\n",
      "584/584 [==============================] - 13s 23ms/step - loss: 2.5961 - accuracy: 0.3705\n",
      "Epoch 118/500\n",
      "584/584 [==============================] - 14s 23ms/step - loss: 2.5895 - accuracy: 0.3729\n",
      "Epoch 119/500\n",
      "584/584 [==============================] - 13s 22ms/step - loss: 2.6123 - accuracy: 0.3633\n",
      "Epoch 120/500\n",
      "584/584 [==============================] - 13s 22ms/step - loss: 2.5736 - accuracy: 0.3742\n",
      "Epoch 121/500\n",
      "584/584 [==============================] - 13s 22ms/step - loss: 2.5555 - accuracy: 0.37930s - loss: 2.5528 \n",
      "Epoch 122/500\n",
      "584/584 [==============================] - 13s 22ms/step - loss: 2.5519 - accuracy: 0.3776\n",
      "Epoch 123/500\n",
      "584/584 [==============================] - 14s 24ms/step - loss: 2.5684 - accuracy: 0.3779\n",
      "Epoch 124/500\n",
      "584/584 [==============================] - 13s 22ms/step - loss: 2.5528 - accuracy: 0.3775TA: 0s - loss: 2.5525 - accuracy: 0.\n",
      "Epoch 125/500\n",
      "584/584 [==============================] - 13s 22ms/step - loss: 2.5507 - accuracy: 0.37600s - loss: 2.5\n",
      "Epoch 126/500\n",
      "584/584 [==============================] - ETA: 0s - loss: 2.5483 - accuracy: 0.37 - 13s 22ms/step - loss: 2.5485 - accuracy: 0.3763\n",
      "Epoch 127/500\n",
      "584/584 [==============================] - 13s 22ms/step - loss: 2.5278 - accuracy: 0.37801s - loss: 2.5207 - accuracy: 0. - ETA: 1s - loss: 2.5212 -  - ETA\n",
      "Epoch 128/500\n",
      "584/584 [==============================] - 14s 23ms/step - loss: 2.5260 - accuracy: 0.38142s - loss: 2.5140  - ETA: 2s - loss:\n",
      "Epoch 129/500\n",
      "584/584 [==============================] - 14s 24ms/step - loss: 2.5219 - accuracy: 0.3845\n",
      "Epoch 130/500\n",
      "584/584 [==============================] - 15s 25ms/step - loss: 2.5153 - accuracy: 0.38470s - loss: 2.5145 - accura\n",
      "Epoch 131/500\n",
      "584/584 [==============================] - 15s 25ms/step - loss: 2.4979 - accuracy: 0.3869\n",
      "Epoch 132/500\n",
      "584/584 [==============================] - 15s 26ms/step - loss: 2.5097 - accuracy: 0.3867\n",
      "Epoch 133/500\n",
      "584/584 [==============================] - 15s 25ms/step - loss: 2.4763 - accuracy: 0.3954\n",
      "Epoch 134/500\n",
      "584/584 [==============================] - 15s 25ms/step - loss: 2.4656 - accuracy: 0.3904\n",
      "Epoch 135/500\n",
      "584/584 [==============================] - 14s 23ms/step - loss: 2.4968 - accuracy: 0.3810\n",
      "Epoch 136/500\n",
      "584/584 [==============================] - 14s 25ms/step - loss: 2.4520 - accuracy: 0.3926\n",
      "Epoch 137/500\n",
      "584/584 [==============================] - 15s 26ms/step - loss: 2.4478 - accuracy: 0.40470s - loss: 2.444\n",
      "Epoch 138/500\n",
      "584/584 [==============================] - 14s 25ms/step - loss: 2.4557 - accuracy: 0.39581s - l - ETA: 0s - los\n",
      "Epoch 139/500\n",
      "584/584 [==============================] - 15s 25ms/step - loss: 2.4420 - accuracy: 0.3949\n",
      "Epoch 140/500\n",
      "584/584 [==============================] - 17s 30ms/step - loss: 2.4469 - accuracy: 0.4001\n",
      "Epoch 141/500\n"
     ]
    },
    {
     "name": "stdout",
     "output_type": "stream",
     "text": [
      "584/584 [==============================] - 16s 27ms/step - loss: 2.4359 - accuracy: 0.3998\n",
      "Epoch 142/500\n",
      "573/584 [============================>.] - ETA: 0s - loss: 2.4323 - accuracy: 0.3999"
     ]
    }
   ],
   "source": [
    "from keras.models import Sequential, load_model\n",
    "from keras.layers import Dense\n",
    "from keras.layers import LSTM\n",
    "from keras.layers import Embedding\n",
    "#model = load_model(\"mymodel.h5\")\n",
    "\n",
    "model = Sequential()\n",
    "model.add(Embedding(vocabulary_size, seq_len, input_length=seq_len))\n",
    "model.add(LSTM(50,return_sequences=True))\n",
    "model.add(LSTM(50))\n",
    "model.add(Dense(50,activation='relu'))\n",
    "model.add(Dense(vocabulary_size, activation='softmax'))\n",
    "print(model.summary())\n",
    "# compile network\n",
    "model.compile(loss='categorical_crossentropy', optimizer='adam', metrics=['accuracy'])\n",
    "model.fit(train_inputs,train_targets,epochs=500,verbose=1)\n",
    "model.save(\"mymodel.h5\")"
   ]
  },
  {
   "cell_type": "code",
   "execution_count": 22,
   "metadata": {
    "colab": {
     "base_uri": "https://localhost:8080/",
     "height": 72
    },
    "colab_type": "code",
    "id": "0--eP4eS-xvw",
    "outputId": "c8d88580-054d-4e91-a5ac-dad4b6e2305b"
   },
   "outputs": [
    {
     "name": "stdout",
     "output_type": "stream",
     "text": [
      "no time to\n",
      "[77, 142, 4] [[ 77 142   4]]\n",
      "Next word suggestion: our\n",
      "Next word suggestion: an\n",
      "Next word suggestion: nothing\n"
     ]
    }
   ],
   "source": [
    "from keras.preprocessing.sequence import pad_sequences\n",
    "input_text = input().strip().lower()\n",
    "encoded_text = tokenizer.texts_to_sequences([input_text])[0]\n",
    "pad_encoded = pad_sequences([encoded_text], maxlen=seq_len, truncating='pre')\n",
    "print(encoded_text, pad_encoded)\n",
    "for i in (model.predict(pad_encoded)[0]).argsort()[-3:][::-1]:\n",
    "  pred_word = tokenizer.index_word[i]\n",
    "  print(\"Next word suggestion:\",pred_word)"
   ]
  },
  {
   "cell_type": "code",
   "execution_count": null,
   "metadata": {},
   "outputs": [],
   "source": []
  }
 ],
 "metadata": {
  "colab": {
   "name": "Untitled4.ipynb",
   "provenance": []
  },
  "kernelspec": {
   "display_name": "Python 3",
   "language": "python",
   "name": "python3"
  },
  "language_info": {
   "codemirror_mode": {
    "name": "ipython",
    "version": 3
   },
   "file_extension": ".py",
   "mimetype": "text/x-python",
   "name": "python",
   "nbconvert_exporter": "python",
   "pygments_lexer": "ipython3",
   "version": "3.8.3"
  }
 },
 "nbformat": 4,
 "nbformat_minor": 1
}
