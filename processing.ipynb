{
 "cells": [
  {
   "cell_type": "code",
   "execution_count": 10,
   "metadata": {},
   "outputs": [],
   "source": [
    "from tensorflow import keras\n",
    "model = keras.models.load_model('mymodel3.h5')"
   ]
  },
  {
   "cell_type": "code",
   "execution_count": 2,
   "metadata": {},
   "outputs": [],
   "source": [
    "from keras.preprocessing.text import Tokenizer\n",
    "import nltk\n",
    "from nltk.tokenize import word_tokenize\n",
    "import numpy as np\n",
    "import re\n",
    "from keras.utils import to_categorical\n"
   ]
  },
  {
   "cell_type": "code",
   "execution_count": 3,
   "metadata": {},
   "outputs": [],
   "source": [
    "from collections import Counter\n",
    "from sklearn.datasets import fetch_20newsgroups\n",
    "import re"
   ]
  },
  {
   "cell_type": "code",
   "execution_count": 4,
   "metadata": {},
   "outputs": [],
   "source": [
    "corpus = []\n",
    "for line in fetch_20newsgroups().data:\n",
    "    line = line.replace('\\n', ' ').replace('\\t', ' ').lower()\n",
    "    line = re.sub('[^a-z ]', ' ', line) # to remove single characters words\n",
    "    tokens = line.split(' ')\n",
    "    tokens = [token for token in tokens if len(token) > 0]\n",
    "    corpus.extend(tokens)\n",
    "\n",
    "corpus = Counter(corpus)"
   ]
  },
  {
   "cell_type": "code",
   "execution_count": 5,
   "metadata": {},
   "outputs": [],
   "source": [
    "class SpellCheck:\n",
    "    def __init__(self, dictionary=None, verbose=0):\n",
    "        self.verbose = verbose\n",
    "        self.dictionary = dictionary\n",
    "        \n",
    "    def correction(self, text):\n",
    "        return ''"
   ]
  },
  {
   "cell_type": "code",
   "execution_count": 6,
   "metadata": {},
   "outputs": [],
   "source": [
    "class SpellCorrector(SpellCheck):\n",
    "    def __init__(self, dictionary, verbose=0):\n",
    "        super().__init__(dictionary=dictionary, verbose=verbose)\n",
    "\n",
    "    def words(text):\n",
    "        return re.findall(r'\\w+', text.lower())\n",
    "\n",
    "    def P(self, word): \n",
    "        \"Probability of `word`.\"\n",
    "        N = sum(self.dictionary.values())\n",
    "        return self.dictionary[word] / N\n",
    "\n",
    "    def correction(self, word): \n",
    "        \"Most probable spelling correction for word.\"\n",
    "        return max(self.candidates(word ,display = False), key=self.P)\n",
    "\n",
    "    def candidates(self, word, verbose=0, display = True): \n",
    "        \"Generate possible spelling corrections for word.\"\n",
    "        \n",
    "        known_result = self.known([word])\n",
    "        edit1_result = self.known(self.edits1(word))\n",
    "        edit2_result = self.known(self.edits2(word))\n",
    "        \n",
    "        if (self.verbose > 0 or verbose > 0) and display:\n",
    "            print('Known Result: ', known_result)\n",
    "            print('Edit1 Result: ', edit1_result)\n",
    "            print('Edit2 Result: ', edit2_result)\n",
    "        \n",
    "        return (known_result or edit1_result or edit2_result or [word])\n",
    "\n",
    "    def known(self, words):\n",
    "        \"The subset of `words` that appear in the dictionary of WORDS.\"\n",
    "        return set(w for w in words if w in self.dictionary)\n",
    "\n",
    "    def edits1(self, word):\n",
    "        \"All edits that are one edit away from `word`.\"\n",
    "        letters    = 'abcdefghijklmnopqrstuvwxyz'\n",
    "        splits     = [(word[:i], word[i:])    for i in range(len(word) + 1)]\n",
    "        deletes    = [L + R[1:]               for L, R in splits if R]\n",
    "        transposes = [L + R[1] + R[0] + R[2:] for L, R in splits if len(R)>1]\n",
    "        replaces   = [L + c + R[1:]           for L, R in splits if R for c in letters]\n",
    "        inserts    = [L + c + R               for L, R in splits for c in letters]\n",
    "        return set(deletes + transposes + replaces + inserts)\n",
    "\n",
    "    def edits2(self, word): \n",
    "        \"All edits that are two edits away from `word`.\"\n",
    "        return (e2 for e1 in self.edits1(word) for e2 in self.edits1(e1))"
   ]
  },
  {
   "cell_type": "code",
   "execution_count": 14,
   "metadata": {},
   "outputs": [
    {
     "name": "stdout",
     "output_type": "stream",
     "text": [
      "Known Result:  set()\n",
      "Edit1 Result:  {'ella', 'ell', 'elco', 'elmo', 'llo', 'hello', 'elbo', 'eelo'}\n",
      "Edit2 Result:  {'ills', 'tell', 'elx', 'belle', 'llb', 'eclr', 'eico', 'ehl', 'esl', 'elkp', 'jll', 'elr', 'elie', 'elte', 'ewlm', 'zllq', 'solo', 'egl', 'hilo', 'kell', 'holo', 'hells', 'valo', 'enzo', 'anello', 'll', 'eslx', 'dlvo', 'gallo', 'lle', 'alla', 'ejo', 'elbow', 'lno', 'ezl', 'kolo', 'llly', 'eko', 'lo', 'etla', 'evo', 'alle', 'kelly', 'clio', 'eio', 'elco', 'vll', 'elmo', 'mlo', 'else', 'llm', 'lli', 'sll', 'elw', 'vllu', 'sell', 'pelle', 'klao', 'esao', 'ellas', 'telli', 'eso', 'llq', 'elson', 'eller', 'erla', 'hallo', 'palo', 'elton', 'ill', 'krlo', 'erno', 'lll', 'ewl', 'eliz', 'yellow', 'cells', 'wllz', 'menlo', 'eero', 'belli', 'ecco', 'lfo', 'mella', 'edlr', 'enli', 'eozo', 'delco', 'colo', 'ulo', 'eml', 'elc', 'ebo', 'exo', 'wells', 'eclu', 'leno', 'lbo', 'elh', 'mll', 'efo', 'elof', 'kelso', 'elin', 'kella', 'vlo', 'fellow', 'ally', 'els', 'lho', 'elp', 'eopo', 'epld', 'arlo', 'ecl', 'welly', 'dblo', 'lmo', 'rlho', 'well', 'eelo', 'elsa', 'bll', 'cleo', 'silo', 'elec', 'eli', 'lqo', 'edld', 'ele', 'ego', 'hello', 'pll', 'elan', 'ejyo', 'ewoo', 'szlo', 'ljo', 'eolf', 'lslo', 'ely', 'bellow', 'ergo', 'elif', 'echo', 'lelf', 'eldon', 'xellf', 'elim', 'elk', 'alo', 'fll', 'dlo', 'eldn', 'llo', 'pell', 'jhlo', 'velo', 'tells', 'kll', 'hell', 'jlo', 'esly', 'eltn', 'ellen', 'jlol', 'dlto', 'kellog', 'euro', 'ellet', 'all', 'lao', 'malo', 'ellis', 'also', 'elee', 'elme', 'wll', 'iilo', 'dell', 'alpo', 'halo', 'fell', 'oll', 'ezo', 'elbo', 'ell', 'olo', 'eql', 'eld', 'zlo', 'kilo', 'eliot', 'erl', 'eola', 'elzv', 'enno', 'sells', 'edl', 'ekl', 'blo', 'ldo', 'alloy', 'elhz', 'elu', 'helll', 'etl', 'lso', 'eclx', 'elf', 'leao', 'milo', 'elxr', 'almo', 'nelly', 'elef', 'axlo', 'yell', 'emo', 'salo', 'bolo', 'polo', 'nolo', 'erlk', 'ille', 'helllo', 'belly', 'lwo', 'espo', 'elyg', 'bells', 'lgo', 'ekol', 'elq', 'plo', 'eizo', 'sulo', 'elba', 'ellib', 'qll', 'elg', 'rlo', 'algo', 'elik', 'flo', 'eno', 'luo', 'kelo', 'vell', 'lilo', 'lpo', 'slo', 'llpo', 'mellow', 'lls', 'cell', 'tll', 'elv', 'ocello', 'expo', 'ejl', 'clo', 'yells', 'elliot', 'rll', 'elroy', 'ellul', 'elis', 'eco', 'bell', 'jelly', 'lla', 'alho', 'edo', 'elke', 'dll', 'mellon', 'tlo', 'leo', 'ilo', 'allow', 'ella', 'plao', 'lvo', 'oleo', 'alloc', 'eo', 'alto', 'el', 'elaj', 'ela', 'loo', 'llf', 'qllg', 'kells', 'telco', 'elm', 'lel', 'kloo', 'oslo', 'llp'}\n"
     ]
    },
    {
     "data": {
      "text/plain": [
       "{'eelo', 'elbo', 'elco', 'ell', 'ella', 'elmo', 'hello', 'llo'}"
      ]
     },
     "execution_count": 14,
     "metadata": {},
     "output_type": "execute_result"
    }
   ],
   "source": [
    "spell_corrector.known(spell_corrector.candidates(\"ello\"))"
   ]
  },
  {
   "cell_type": "code",
   "execution_count": 7,
   "metadata": {},
   "outputs": [
    {
     "data": {
      "text/plain": [
       "3603366"
      ]
     },
     "execution_count": 7,
     "metadata": {},
     "output_type": "execute_result"
    }
   ],
   "source": [
    "f = open(\"big.txt\")\n",
    "data = f.read()\n",
    "len(data)"
   ]
  },
  {
   "cell_type": "code",
   "execution_count": 8,
   "metadata": {},
   "outputs": [],
   "source": [
    "cleaned = re.sub(r'\\W+', ' ',data[:300000]).lower()\n",
    "tokens = word_tokenize(cleaned)\n",
    "train_len = 3+1\n",
    "text_sequences = []\n",
    "for i in range(train_len,len(tokens)):\n",
    "    seq = tokens[i-train_len:i]\n",
    "    text_sequences.append(seq)\n",
    "sequences = {}\n",
    "count = 1\n",
    "for i in range(len(tokens)):\n",
    "    if tokens[i] not in sequences:\n",
    "        sequences[tokens[i]] = count\n",
    "        count += 1\n",
    "tokenizer = Tokenizer()\n",
    "tokenizer.fit_on_texts(text_sequences)"
   ]
  },
  {
   "cell_type": "code",
   "execution_count": 9,
   "metadata": {},
   "outputs": [
    {
     "name": "stdout",
     "output_type": "stream",
     "text": [
      "how are you \n",
      "[90, 48, 12] [[90 48 12]]\n",
      "Next word suggestion: the\n",
      "Next word suggestion: really\n",
      "Next word suggestion: he\n",
      "spell Suggest:\t you\n",
      "how are yoo\n",
      "[90, 48] [[ 0 90 48]]\n",
      "Next word suggestion: it\n",
      "Next word suggestion: of\n",
      "Next word suggestion: that\n",
      "spell Suggest:\t yoo\n",
      "ello\n",
      "[] [[0 0 0]]\n",
      "Next word suggestion: the\n",
      "Next word suggestion: holmes\n",
      "Next word suggestion: to\n",
      "spell Suggest:\t hello\n",
      "how are yo\n",
      "[90, 48] [[ 0 90 48]]\n",
      "Next word suggestion: it\n",
      "Next word suggestion: of\n",
      "Next word suggestion: that\n",
      "spell Suggest:\t yo\n",
      "quit\n",
      "[] [[0 0 0]]\n",
      "Next word suggestion: the\n",
      "Next word suggestion: holmes\n",
      "Next word suggestion: to\n",
      "spell Suggest:\t quit\n"
     ]
    }
   ],
   "source": [
    "r = True\n",
    "seq_len = 3\n",
    "spell_corrector = SpellCorrector(dictionary=corpus, verbose=1)#creating an object\n",
    "while r:\n",
    "    from keras.preprocessing.sequence import pad_sequences\n",
    "    input_text = input().strip().lower()\n",
    "    #add spell correction here\n",
    "    #converts the input text to encoded values \n",
    "    encoded_text = tokenizer.texts_to_sequences([input_text])[0]\n",
    "    \n",
    "    #selects the last 3 encoded values , incase of low number of words 0 is added at the begining of the array\n",
    "    pad_encoded = pad_sequences([encoded_text], maxlen=seq_len, truncating='pre')\n",
    "    #print(encoded_text, pad_encoded)\n",
    "    \n",
    "    for i in (model.predict(pad_encoded)[0]).argsort()[-3:][::-1]:\n",
    "      pred_word = tokenizer.index_word[i]\n",
    "      print(\"Next word suggestion:\",pred_word)\n",
    "    spell = input_text.split(\" \")[-1]\n",
    "    print(\"spell Suggest:\\t\",spell_corrector.correction(spell))\n",
    "    if input_text == \"quit\":\n",
    "        r = False"
   ]
  },
  {
   "cell_type": "code",
   "execution_count": null,
   "metadata": {},
   "outputs": [],
   "source": []
  }
 ],
 "metadata": {
  "kernelspec": {
   "display_name": "Python 3",
   "language": "python",
   "name": "python3"
  },
  "language_info": {
   "codemirror_mode": {
    "name": "ipython",
    "version": 3
   },
   "file_extension": ".py",
   "mimetype": "text/x-python",
   "name": "python",
   "nbconvert_exporter": "python",
   "pygments_lexer": "ipython3",
   "version": "3.8.3"
  }
 },
 "nbformat": 4,
 "nbformat_minor": 4
}
